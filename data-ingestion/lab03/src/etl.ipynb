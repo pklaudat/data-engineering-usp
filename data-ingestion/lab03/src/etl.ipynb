{
 "cells": [
  {
   "cell_type": "code",
   "execution_count": 32,
   "metadata": {
    "ExecuteTime": {
     "end_time": "2023-08-23T23:03:26.066388Z",
     "start_time": "2023-08-23T23:03:26.021587638Z"
    }
   },
   "outputs": [],
   "source": [
    "from pyspark.sql import SparkSession\n",
    "from pyspark.sql.functions import *\n",
    "from pyspark.sql.types import *\n",
    "\n",
    "spark = (\n",
    "    SparkSession.builder\n",
    "    .master('spark://172.19.0.4:7777')\n",
    "    .appName('ETL_LAB03')\n",
    "    .getOrCreate()\n",
    ")"
   ]
  },
  {
   "cell_type": "code",
   "execution_count": 33,
   "metadata": {
    "ExecuteTime": {
     "end_time": "2023-08-23T23:03:27.180016297Z",
     "start_time": "2023-08-23T23:03:26.404816140Z"
    }
   },
   "outputs": [
    {
     "name": "stdout",
     "output_type": "stream",
     "text": [
      "1474\n",
      "+--------+--------+---------------------------------------------------------------------------------------+\n",
      "|segmento|cnpj    |nome                                                                                   |\n",
      "+--------+--------+---------------------------------------------------------------------------------------+\n",
      "|S4      |14388334|JMALUCELLI                                                                             |\n",
      "|S5      |22753982|COOPERATIVA DE CRDITO DE LIVRE ADMISSO DE SETE LAGOAS LTDA  SICOOB CREDISETE           |\n",
      "|S5      |20833976|COOPERATIVA DE CRDITO DOS SERVIDORES PBLICOS MUNICIPAIS DE TIMTEO LTDA  COOPERTIM      |\n",
      "|S5      |10453077|COOPERATIVA DE CRDITO RURAL COM INTERAO SOLIDRIA DE POUSO REDONDO  CRESOL POUSO REDONDO|\n",
      "|S4      |53518684|HSBC                                                                                   |\n",
      "+--------+--------+---------------------------------------------------------------------------------------+\n",
      "only showing top 5 rows\n",
      "\n",
      "Number of rows x columns - Bank Data: 1474 x 3\n"
     ]
    }
   ],
   "source": [
    "bank_df = spark.read.csv('../data/bronze/banks/EnquadramentoInicia_v2.tsv', header=True, sep='\\t')\n",
    "\n",
    "# Data Transformation for bank dataset\n",
    "for column in bank_df.columns:\n",
    "    bank_df = bank_df.withColumnRenamed(\n",
    "        existing=column, \n",
    "        new=column.lower()\n",
    "    )\n",
    "\n",
    "for replacement_action in [\n",
    "    (\"nome\", \"- PRUDENCIAL\", \"\"),\n",
    "    (\"nome\",\"(\\.+|\\/+|\\-+)\", \"\"),\n",
    "]:\n",
    "    bank_df = bank_df.withColumn(\n",
    "        \"nome\", regexp_replace(\n",
    "            replacement_action[0],\n",
    "            replacement_action[1],\n",
    "            replacement_action[2]\n",
    "        )\n",
    "    )\n",
    "\n",
    "print(bank_df.count())\n",
    "bank_df = bank_df.na.drop()\n",
    "bank_df = bank_df.dropDuplicates()\n",
    "bank_df.show(5, truncate=False)\n",
    "print(f\"Number of rows x columns - Bank Data: {bank_df.count()} x {len(bank_df.columns)}\")\n",
    "bank_df.write.mode(\"overwrite\").csv(\"../data/silver/banks\", header=True, sep=\";\")"
   ]
  },
  {
   "cell_type": "code",
   "execution_count": 34,
   "metadata": {
    "ExecuteTime": {
     "end_time": "2023-08-23T23:03:28.495872349Z",
     "start_time": "2023-08-23T23:03:27.189700591Z"
    }
   },
   "outputs": [
    {
     "name": "stdout",
     "output_type": "stream",
     "text": [
      "+-------------------------------+-------------+-------------+--------------+--------------+---------------------------------------------------+---------------------+----------------+-----------------------------------------------------------------------------------+---------------------------+----------------------------------------------------------------------------------------------------------------+-----+-----------------+----------------------+-----------------+--------------+------------------------+-------------------------+---------------------------------+----------------------------------+--------+--------+--------------------------------------------------+-------------+\n",
      "|employer_name                  |reviews_count|culture_count|salaries_count|benefits_count|employer_website                                   |employer_headquarters|employer_founded|employer_industry                                                                  |employer_revenue           |url                                                                                                             |geral|cultura_e_valores|diversidade_e_inclusão|qualidade_de_vida|alta_liderança|remuneração_e_benefícios|oportunidades_de_carreira|recomendam_para_outras_pessoas(%)|perspectiva_positiva_da_empresa(%)|cnpj    |segmento|nome                                              |match_percent|\n",
      "+-------------------------------+-------------+-------------+--------------+--------------+---------------------------------------------------+---------------------+----------------+-----------------------------------------------------------------------------------+---------------------------+----------------------------------------------------------------------------------------------------------------+-----+-----------------+----------------------+-----------------+--------------+------------------------+-------------------------+---------------------------------+----------------------------------+--------+--------+--------------------------------------------------+-------------+\n",
      "|Apex Group                     |450          |281          |592           |74            |http://www.apexgroup.com                           |Hamilton, Bermuda    |2003.0          |/Explorar/melhores-gestão-de-ativos-e-investimentos-empresas_II.9,41_IIND200146.htm|Mais de US$ 10 bilhões     |https://www.glassdoor.com.br/Vis%C3%A3o-geral/Trabalhar-na-Apex-Group-EI_IE764729.13,23.htm                     |3.2  |2.9              |3.5                   |3.0              |2.9           |2.7                     |3.2                      |52.0                             |53.0                              |655522  |        |APE POUPEX                                        |70           |\n",
      "|Banco Alfa                     |175          |74           |271           |105           |http://www.alfanet.com.br                          |São Paulo, Brasil    |1925.0          |/Explorar/melhores-serviços-bancários-e-de-crédito-empresas_II.9,40_IIND200048.htm |Desconhecida/não se aplica |https://www.glassdoor.com.br/Vis%C3%A3o-geral/Trabalhar-na-Banco-Alfa-EI_IE817306.13,23.htm                     |3.5  |3.2              |3.2                   |3.1              |2.8           |3.8                     |2.7                      |68.0                             |47.0                              |58160789|        |SAFRA                                             |67           |\n",
      "|China Construction Bank        |871          |194          |720           |240           |http://www.ccb.com                                 |Pequim, China        |null            |/Explorar/melhores-serviços-bancários-e-de-crédito-empresas_II.9,40_IIND200048.htm |Mais de US$ 10 bilhões     |https://www.glassdoor.com.br/Vis%C3%A3o-geral/Trabalhar-na-China-Construction-Bank-EI_IE12617.13,36.htm         |3.4  |3.0              |3.0                   |3.4              |2.9           |3.5                     |2.8                      |54.0                             |42.0                              |7450604 |        |CHINA CONSTRUCTION BANK (BRASIL) BANCO MULTIPLO S/|77           |\n",
      "|Mercedes-Benz Mobility         |282          |90           |513           |118           |https://www.mercedes-benz-mobility.com/de/karriere/|Estugarda, Alemanha  |1990.0          |/Explorar/melhores-serviços-bancários-e-de-crédito-empresas_II.9,40_IIND200048.htm |Mais de US$ 10 bilhões     |https://www.glassdoor.com.br/Vis%C3%A3o-geral/Trabalhar-na-Mercedes-Benz-Mobility-EI_IE38563.13,35.htm          |4.1  |4.1              |4.0                   |4.4              |3.7           |4.0                     |3.6                      |87.0                             |51.0                              |60814191|        |MERCEDES-BENZ                                     |73           |\n",
      "|Sumitomo Mitsui Financial Group|903          |246          |1300          |290           |http://www.smfg.co.jp                              |Tóquio, Japão        |1996.0          |/Explorar/melhores-gestão-de-ativos-e-investimentos-empresas_II.9,41_IIND200146.htm|Mais de US$ 10 bilhões     |https://www.glassdoor.com.br/Vis%C3%A3o-geral/Trabalhar-na-Sumitomo-Mitsui-Financial-Group-EI_IE256138.13,44.htm|3.4  |3.2              |3.3                   |3.4              |3.1           |3.3                     |3.1                      |56.0                             |53.0                              |60518222|        |BANCO SUMITOMO MITSUI BRASIL S.A.                 |65           |\n",
      "|BNP Paribas                    |13000        |4100         |20000         |3600          |http://www.group.bnpparibas                        |Paris, França        |2000.0          |/Explorar/melhores-serviços-bancários-e-de-crédito-empresas_II.9,40_IIND200048.htm |Mais de US$ 10 bilhões     |https://www.glassdoor.com.br/Vis%C3%A3o-geral/Trabalhar-na-BNP-Paribas-EI_IE10342.13,24.htm                     |3.8  |3.7              |4.0                   |3.8              |3.4           |3.4                     |3.5                      |77.0                             |63.0                              |        |S3      |BNP PARIBAS                                       |100          |\n",
      "|BTG Pactual                    |1600         |683          |2800          |635           |http://www.btgpactual.com                          |São Paulo, Brasil    |null            |/Explorar/melhores-gestão-de-ativos-e-investimentos-empresas_II.9,41_IIND200146.htm|Desconhecida/não se aplica |https://www.glassdoor.com.br/Vis%C3%A3o-geral/Trabalhar-na-BTG-Pactual-EI_IE411540.13,24.htm                    |4.0  |3.7              |3.5                   |2.8              |3.7           |4.4                     |4.2                      |78.0                             |73.0                              |        |S1      |BTG PACTUAL                                       |100          |\n",
      "|Banco Alfa                     |175          |74           |271           |105           |http://www.alfanet.com.br                          |São Paulo, Brasil    |1925.0          |/Explorar/melhores-serviços-bancários-e-de-crédito-empresas_II.9,40_IIND200048.htm |Desconhecida/não se aplica |https://www.glassdoor.com.br/Vis%C3%A3o-geral/Trabalhar-na-Banco-Alfa-EI_IE817306.13,23.htm                     |3.5  |3.2              |3.2                   |3.1              |2.8           |3.8                     |2.7                      |68.0                             |47.0                              |        |S3      |ALFA                                              |100          |\n",
      "|Banco BMG                      |445          |232          |704           |277           |http://www.bancobmg.com.br                         |São Paulo, Brasil    |1930.0          |/Explorar/melhores-serviços-bancários-e-de-crédito-empresas_II.9,40_IIND200048.htm |De US$ 1 a US$ 5 milhões   |https://www.glassdoor.com.br/Vis%C3%A3o-geral/Trabalhar-na-Banco-BMG-EI_IE2482923.13,22.htm                     |4.1  |3.9              |4.1                   |3.7              |3.6           |4.2                     |3.5                      |79.0                             |63.0                              |        |S3      |BMG                                               |100          |\n",
      "|Banco Bradesco                 |11000        |3300         |19000         |3200          |http://www.bancobradesco.com.br                    |Osasco, Brasil       |1943.0          |/Explorar/melhores-serviços-bancários-e-de-crédito-empresas_II.9,40_IIND200048.htm |Mais de US$ 10 bilhões     |https://www.glassdoor.com.br/Vis%C3%A3o-geral/Trabalhar-na-Banco-Bradesco-EI_IE10997.13,27.htm                  |4.2  |3.8              |3.9                   |3.4              |3.4           |4.3                     |3.8                      |81.0                             |66.0                              |        |S1      |BRADESCO                                          |100          |\n",
      "|Banco Daycoval                 |300          |157          |521           |107           |https://www.daycoval.com.br                        |São Paulo, Brasil    |1971.0          |/Explorar/melhores-serviços-bancários-e-de-crédito-empresas_II.9,40_IIND200048.htm |De US$ 25 a US$ 100 milhões|https://www.glassdoor.com.br/Vis%C3%A3o-geral/Trabalhar-na-Banco-Daycoval-EI_IE1480352.13,27.htm                |4.0  |3.7              |3.6                   |3.4              |3.3           |4.1                     |3.4                      |78.0                             |72.0                              |        |S3      |BANCO DAYCOVAL S.A                                |100          |\n",
      "|Banco Fibra                    |119          |41           |172           |37            |http://www.bancofibra.com.br                       |São Paulo, Brasil    |null            |/Explorar/melhores-serviços-bancários-e-de-crédito-empresas_II.9,40_IIND200048.htm |Desconhecida/não se aplica |https://www.glassdoor.com.br/Vis%C3%A3o-geral/Trabalhar-na-Banco-Fibra-EI_IE744986.13,24.htm                    |4.3  |4.3              |4.3                   |3.8              |3.7           |4.2                     |3.6                      |87.0                             |84.0                              |        |S3      |BANCO FIBRA S.A.                                  |100          |\n",
      "|Banco Original                 |651          |286          |1100          |261           |http://www.original.com.br                         |São Paulo, Brasil    |2016.0          |/Explorar/melhores-serviços-bancários-e-de-crédito-empresas_II.9,40_IIND200048.htm |Desconhecida/não se aplica |https://www.glassdoor.com.br/Vis%C3%A3o-geral/Trabalhar-na-Banco-Original-EI_IE1026577.13,27.htm                |3.8  |3.4              |3.5                   |3.4              |3.1           |4.0                     |3.3                      |71.0                             |53.0                              |        |S3      |ORIGINAL                                          |100          |\n",
      "|Banco PAN                      |1100         |520          |1700          |493           |http://www.bancopan.com.br                         |São Paulo, Brasil    |2011.0          |/Explorar/melhores-serviços-bancários-e-de-crédito-empresas_II.9,40_IIND200048.htm |Desconhecida/não se aplica |https://www.glassdoor.com.br/Vis%C3%A3o-geral/Trabalhar-na-Banco-PAN-EI_IE1184444.13,22.htm                     |4.4  |4.2              |4.4                   |3.9              |3.9           |4.6                     |4.0                      |91.0                             |79.0                              |        |S3      |PAN                                               |100          |\n",
      "|Banco Pine                     |121          |45           |216           |63            |http://www.pine.com                                |São Paulo, Brasil    |1997.0          |/Explorar/melhores-serviços-bancários-e-de-crédito-empresas_II.9,40_IIND200048.htm |Desconhecida/não se aplica |https://www.glassdoor.com.br/Vis%C3%A3o-geral/Trabalhar-na-Banco-Pine-EI_IE1086238.13,23.htm                    |3.8  |3.5              |3.5                   |3.4              |3.0           |3.9                     |3.5                      |71.0                             |50.0                              |        |S3      |PINE                                              |100          |\n",
      "|Banco Votorantim               |1400         |563          |2100          |574           |http://www.bancobv.com.br                          |São Paulo, Brasil    |1991.0          |/Explorar/melhores-gestão-de-ativos-e-investimentos-empresas_II.9,41_IIND200146.htm|Desconhecida/não se aplica |https://www.glassdoor.com.br/Vis%C3%A3o-geral/Trabalhar-na-banco-BV-EI_IE333951.13,21.htm                       |4.4  |4.3              |4.4                   |4.1              |3.9           |4.6                     |3.9                      |93.0                             |79.0                              |        |S2      |VOTORANTIM                                        |100          |\n",
      "|Banco do Brasil                |5000         |1100         |9200          |1200          |https://www.bb.com.br                              |Brasília, Brasil     |1808.0          |/Explorar/melhores-serviços-bancários-e-de-crédito-empresas_II.9,40_IIND200048.htm |Desconhecida/não se aplica |https://www.glassdoor.com.br/Vis%C3%A3o-geral/Trabalhar-na-Banco-do-Brasil-EI_IE3945.13,28.htm                  |4.3  |3.9              |4.0                   |3.7              |3.5           |4.2                     |3.8                      |86.0                             |72.0                              |        |S1      |BANCO DO BRASIL                                   |100          |\n",
      "|Banco do Nordeste do Brasil    |525          |113          |840           |115           |http://www.bnb.gov.br                              |Fortaleza, Brasil    |null            |/Explorar/melhores-gestão-de-ativos-e-investimentos-empresas_II.9,41_IIND200146.htm|Desconhecido/Não se aplica |https://www.glassdoor.com.br/Vis%C3%A3o-geral/Trabalhar-na-Banco-do-Nordeste-do-Brasil-EI_IE436304.13,40.htm    |4.5  |4.4              |4.3                   |4.3              |4.1           |4.2                     |4.0                      |90.0                             |83.0                              |        |S2      |BANCO DO NORDESTE DO BRASIL S.A.                  |100          |\n",
      "|Bank Of Tokyo-Mitsubishi UFJ   |770          |150          |1100          |228           |http://www.bk.mufg.jp/global                       |Tóquio, Japão        |1919.0          |/Explorar/melhores-gestão-de-ativos-e-investimentos-empresas_II.9,41_IIND200146.htm|Mais de US$ 10 bilhões     |https://www.glassdoor.com.br/Vis%C3%A3o-geral/Trabalhar-na-Bank-Of-Tokyo-Mitsubishi-UFJ-EI_IE240039.13,41.htm   |3.6  |3.6              |3.5                   |3.4              |3.3           |3.6                     |3.3                      |65.0                             |43.0                              |        |S3      |BANCO TOKYO-MITSUBISHI BM S.A.                    |80           |\n",
      "|Banrisul                       |1000         |155          |1700          |127           |http://www.banrisul.com.br                         |Porto Alegre, Brasil |null            |/Explorar/melhores-serviços-bancários-e-de-crédito-empresas_II.9,40_IIND200048.htm |De US$ 25 a US$ 100 milhões|https://www.glassdoor.com.br/Vis%C3%A3o-geral/Trabalhar-na-Banrisul-EI_IE678973.13,21.htm                       |4.2  |3.6              |3.8                   |3.7              |3.4           |4.1                     |3.3                      |84.0                             |59.0                              |        |S2      |BANRISUL                                          |100          |\n",
      "+-------------------------------+-------------+-------------+--------------+--------------+---------------------------------------------------+---------------------+----------------+-----------------------------------------------------------------------------------+---------------------------+----------------------------------------------------------------------------------------------------------------+-----+-----------------+----------------------+-----------------+--------------+------------------------+-------------------------+---------------------------------+----------------------------------+--------+--------+--------------------------------------------------+-------------+\n",
      "only showing top 20 rows\n",
      "\n",
      "23/08/23 20:03:27 WARN CacheManager: Asked to cache already cached data.\n",
      "39\n",
      "+-------------------------------+-------------+-------------+--------------+--------------+---------------------------------------------------+---------------------+----------------+-----------------------------------------------------------------------------------+--------------------------+----------------------------------------------------------------------------------------------------------------+-----+-----------------+----------------------+-----------------+--------------+------------------------+-------------------------+---------------------------------+----------------------------------+--------+--------+-------------------------------+-------------+\n",
      "|employer_name                  |reviews_count|culture_count|salaries_count|benefits_count|employer_website                                   |employer_headquarters|employer_founded|employer_industry                                                                  |employer_revenue          |url                                                                                                             |geral|cultura_e_valores|diversidade_e_inclusão|qualidade_de_vida|alta_liderança|remuneração_e_benefícios|oportunidades_de_carreira|recomendam_para_outras_pessoas(%)|perspectiva_positiva_da_empresa(%)|cnpj    |segmento|nome                           |match_percent|\n",
      "+-------------------------------+-------------+-------------+--------------+--------------+---------------------------------------------------+---------------------+----------------+-----------------------------------------------------------------------------------+--------------------------+----------------------------------------------------------------------------------------------------------------+-----+-----------------+----------------------+-----------------+--------------+------------------------+-------------------------+---------------------------------+----------------------------------+--------+--------+-------------------------------+-------------+\n",
      "|Apex Group                     |450          |281          |592           |74            |http://www.apexgroup.com                           |Hamilton, Bermuda    |2003.0          |/Explorar/melhores-gestão-de-ativos-e-investimentos-empresas_II.9,41_IIND200146.htm|Mais de US$ 10 bilhões    |https://www.glassdoor.com.br/Vis%C3%A3o-geral/Trabalhar-na-Apex-Group-EI_IE764729.13,23.htm                     |3.2  |2.9              |3.5                   |3.0              |2.9           |2.7                     |3.2                      |52.0                             |53.0                              |655522  |        |APE POUPEX                     |70           |\n",
      "|Mercedes-Benz Mobility         |282          |90           |513           |118           |https://www.mercedes-benz-mobility.com/de/karriere/|Estugarda, Alemanha  |1990.0          |/Explorar/melhores-serviços-bancários-e-de-crédito-empresas_II.9,40_IIND200048.htm |Mais de US$ 10 bilhões    |https://www.glassdoor.com.br/Vis%C3%A3o-geral/Trabalhar-na-Mercedes-Benz-Mobility-EI_IE38563.13,35.htm          |4.1  |4.1              |4.0                   |4.4              |3.7           |4.0                     |3.6                      |87.0                             |51.0                              |60814191|        |MERCEDESBENZ                   |73           |\n",
      "|Sumitomo Mitsui Financial Group|903          |246          |1300          |290           |http://www.smfg.co.jp                              |Tóquio, Japão        |1996.0          |/Explorar/melhores-gestão-de-ativos-e-investimentos-empresas_II.9,41_IIND200146.htm|Mais de US$ 10 bilhões    |https://www.glassdoor.com.br/Vis%C3%A3o-geral/Trabalhar-na-Sumitomo-Mitsui-Financial-Group-EI_IE256138.13,44.htm|3.4  |3.2              |3.3                   |3.4              |3.1           |3.3                     |3.1                      |56.0                             |53.0                              |60518222|        |BANCO SUMITOMO MITSUI BRASIL SA|65           |\n",
      "|Banco Alfa                     |175          |74           |271           |105           |http://www.alfanet.com.br                          |São Paulo, Brasil    |1925.0          |/Explorar/melhores-serviços-bancários-e-de-crédito-empresas_II.9,40_IIND200048.htm |Desconhecida/não se aplica|https://www.glassdoor.com.br/Vis%C3%A3o-geral/Trabalhar-na-Banco-Alfa-EI_IE817306.13,23.htm                     |3.5  |3.2              |3.2                   |3.1              |2.8           |3.8                     |2.7                      |68.0                             |47.0                              |58160789|        |SAFRA                          |67           |\n",
      "|Banco Bradesco                 |11000        |3300         |19000         |3200          |http://www.bancobradesco.com.br                    |Osasco, Brasil       |1943.0          |/Explorar/melhores-serviços-bancários-e-de-crédito-empresas_II.9,40_IIND200048.htm |Mais de US$ 10 bilhões    |https://www.glassdoor.com.br/Vis%C3%A3o-geral/Trabalhar-na-Banco-Bradesco-EI_IE10997.13,27.htm                  |4.2  |3.8              |3.9                   |3.4              |3.4           |4.3                     |3.8                      |81.0                             |66.0                              |        |S1      |BRADESCO                       |100          |\n",
      "+-------------------------------+-------------+-------------+--------------+--------------+---------------------------------------------------+---------------------+----------------+-----------------------------------------------------------------------------------+--------------------------+----------------------------------------------------------------------------------------------------------------+-----+-----------------+----------------------+-----------------+--------------+------------------------+-------------------------+---------------------------------+----------------------------------+--------+--------+-------------------------------+-------------+\n",
      "only showing top 5 rows\n",
      "\n",
      "Number of rows x columns - Employee Data: 32 x 24\n"
     ]
    }
   ],
   "source": [
    "# Lendo separado devido a estrutura diferente\n",
    "employee_df_1 = spark.read.format(\"csv\").option(\"header\", \"true\").option('delimiter','|').load(\"../data/bronze/employees/glassdoor_consolidado_join_match_less_v2.csv\")\n",
    "employee_df_2 = spark.read.format(\"csv\").option(\"header\", \"true\").option('delimiter','|').load(\"../data/bronze/employees/glassdoor_consolidado_join_match_v2.csv\")\n",
    "\n",
    "# Criando colunas\n",
    "employee_df_1 = employee_df_1.withColumn('Segmento', lit(''))\n",
    "employee_df_2 = employee_df_2.withColumn('CNPJ', lit(''))\n",
    "\n",
    "# Ordenando as colunas\n",
    "columns = [\"employer_name\", \"reviews_count\", \"culture_count\", \"salaries_count\", \"benefits_count\", \"employer-website\", \"employer-headquarters\", \"employer-founded\", \"employer-industry\", \"employer-revenue\", \"url\", \"Geral\", \"Cultura e valores\", \"Diversidade e inclusão\", \"Qualidade de vida\", \"Alta liderança\", \"Remuneração e benefícios\", \"Oportunidades de carreira\", \"Recomendam para outras pessoas(%)\", \"Perspectiva positiva da empresa(%)\", \"CNPJ\", \"Segmento\", \"Nome\", \"match_percent\"]\n",
    "\n",
    "employee_df_1 = employee_df_1.select(columns)\n",
    "employee_df_2 = employee_df_2.select(columns)\n",
    "\n",
    "# unindo os dados\n",
    "employee_df = employee_df_1.union(employee_df_2)\n",
    "\n",
    "# Data Transformation for employee dataset\n",
    "for column in employee_df.columns:\n",
    "    employee_df = employee_df.withColumnRenamed(\n",
    "        column, \n",
    "        column.replace(\"-\",\"_\").replace(\" \",\"_\").lower()\n",
    "    )\n",
    "\n",
    "employee_df.show(truncate=False)\n",
    "employee_df.cache()\n",
    "\n",
    "for replacement_action in [\n",
    "    (\"nome\", \"- PRUDENCIAL\", \"\"),\n",
    "    (\"nome\",\"(\\.+|\\/+|\\-+)\", \"\"),\n",
    "]:\n",
    "    employee_df = employee_df.withColumn(\n",
    "        \"nome\", regexp_replace(\n",
    "            replacement_action[0],\n",
    "            replacement_action[1],\n",
    "            replacement_action[2]\n",
    "        )\n",
    "    )\n",
    "\n",
    "print(employee_df.count())\n",
    "employee_df = employee_df.na.drop()\n",
    "employee_df = employee_df.dropDuplicates()\n",
    "employee_df.show(5, truncate=False)\n",
    "print(f\"Number of rows x columns - Employee Data: {employee_df.count()} x {len(employee_df.columns)}\")\n",
    "employee_df.write.mode(\"overwrite\").csv(\"../data/silver/employee\", header=True, sep=\";\")"
   ]
  },
  {
   "cell_type": "code",
   "execution_count": 59,
   "outputs": [
    {
     "name": "stdout",
     "output_type": "stream",
     "text": [
      "+----+---------+------------------------------------------------------+----------------+--------+---------------------------------------------------------+------+-----------------------------------------------+--------------------------------------------+---------------------------------------+-------------------------------+----------------------------------------+----------------------------+----------------------------+\n",
      "|ano |trimestre|categoria                                             |tipo            |cnpj    |nome                                                     |índice|quantidade_de_reclamações_reguladas_procedentes|quantidade_de_reclamações_reguladas___outras|quantidade_de_reclamações_não_reguladas|quantidade_total_de_reclamações|quantidade_total_de_clientes_–_ccs_e_scr|quantidade_de_clientes_–_ccs|quantidade_de_clientes_–_scr|\n",
      "+----+---------+------------------------------------------------------+----------------+--------+---------------------------------------------------------+------+-----------------------------------------------+--------------------------------------------+---------------------------------------+-------------------------------+----------------------------------------+----------------------------+----------------------------+\n",
      "|2022|1º       |Demais Bancos, Financeiras e Instituições de Pagamento|Banco/financeira|15581638|FACTA FINANCEIRA SA  CRÉDITO FINANCIAMENTO E INVESTIMENTO|134,16|75                                             |258                                         |20                                     |353                            |559026                                  |682                         |558350                      |\n",
      "|2022|3º       |Demais Bancos, Financeiras e Instituições de Pagamento|Banco/financeira|13140088|ACESSO SOLUÇÕES DE PAGAMENTO SA                          |14,7  |75                                             |128                                         |9                                      |212                            |5098671                                 |5098661                     |19396                       |\n",
      "|2022|3º       |Demais Bancos, Financeiras e Instituições de Pagamento|Banco/financeira|10878448|PAYPAL DO BRASIL SERVICOS DE PAGAMENTOS LTDA             |15,77 |49                                             |110                                         |14                                     |173                            |3106019                                 |3106017                     |3                           |\n",
      "|2022|4º       |Demais Bancos, Financeiras e Instituições de Pagamento|Banco/financeira|15581638|FACTA FINANCEIRA SA  CRÉDITO FINANCIAMENTO E INVESTIMENTO|396,37|352                                            |257                                         |67                                     |676                            |888045                                  |686                         |887367                      |\n",
      "|2021|3º       |Demais bancos e financeiras                           |Banco/financeira|4913711 |BANCO DO ESTADO DO PARÁ SA                               |42,87 |39                                             |23                                          |23                                     |85                             |909670                                  |786497                      |405982                      |\n",
      "+----+---------+------------------------------------------------------+----------------+--------+---------------------------------------------------------+------+-----------------------------------------------+--------------------------------------------+---------------------------------------+-------------------------------+----------------------------------------+----------------------------+----------------------------+\n",
      "Number of rows x columns - Employee Data: 32 x 24\n"
     ]
    }
   ],
   "source": [
    "#Claims\n",
    "claims_df = spark.read.format(\"csv\").option(\"header\", \"true\").option('delimiter',',').load(\"../data/bronze/claims\")\n",
    "\n",
    "#print(claims_df.count()) == 918\n",
    "\n",
    "# Data Transformation for employee dataset\n",
    "for column in claims_df.columns:\n",
    "    claims_df = claims_df.withColumnRenamed(\n",
    "        column, \n",
    "        column.replace(\"-\",\"_\").replace(\" \",\"_\").lower()\n",
    "    )\n",
    "\n",
    "claims_df = claims_df.withColumnRenamed('cnpj_if', 'cnpj')\\\n",
    "    .withColumnRenamed('instituição_financeira', 'nome')\n",
    "\n",
    "for replacement_action in [\n",
    "    (\"nome\", \"- PRUDENCIAL\", \"\"),\n",
    "    (\"nome\",\"(\\.+|\\/+|\\-+)\", \"\"),\n",
    "    (\"nome\",\" \\(conglomerado\\)\", \"\"),\n",
    "]:\n",
    "    claims_df = claims_df.withColumn(\n",
    "        \"nome\", regexp_replace(\n",
    "            replacement_action[0],\n",
    "            replacement_action[1],\n",
    "            replacement_action[2]\n",
    "        )\n",
    "    )\n",
    "\n",
    "claims_df = claims_df.na.drop()\n",
    "claims_df = claims_df.dropDuplicates()\n",
    "claims_df.show(5, truncate=False)\n",
    "print(f\"Number of rows x columns - Employee Data: {employee_df.count()} x {len(employee_df.columns)}\")\n",
    "claims_df.write.mode(\"overwrite\").csv(\"../data/silver/claims\", header=True, sep=\";\")"
   ],
   "metadata": {
    "collapsed": false,
    "ExecuteTime": {
     "end_time": "2023-08-23T23:20:03.671006207Z",
     "start_time": "2023-08-23T23:20:02.827261552Z"
    }
   }
  },
  {
   "cell_type": "code",
   "execution_count": null,
   "outputs": [],
   "source": [],
   "metadata": {
    "collapsed": false
   }
  }
 ],
 "metadata": {
  "kernelspec": {
   "display_name": "Python 3",
   "language": "python",
   "name": "python3"
  },
  "language_info": {
   "codemirror_mode": {
    "name": "ipython",
    "version": 3
   },
   "file_extension": ".py",
   "mimetype": "text/x-python",
   "name": "python",
   "nbconvert_exporter": "python",
   "pygments_lexer": "ipython3",
   "version": "3.11.0"
  },
  "orig_nbformat": 4
 },
 "nbformat": 4,
 "nbformat_minor": 2
}
