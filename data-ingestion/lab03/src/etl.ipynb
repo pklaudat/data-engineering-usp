{
 "cells": [
  {
   "cell_type": "code",
   "execution_count": 3,
   "metadata": {
    "ExecuteTime": {
     "end_time": "2023-08-23T21:44:34.343985481Z",
     "start_time": "2023-08-23T21:44:33.330957765Z"
    }
   },
   "outputs": [
    {
     "name": "stdout",
     "output_type": "stream",
     "text": [
      "23/08/23 18:44:34 WARN SparkSession: Using an existing Spark session; only runtime SQL configurations will take effect.\n"
     ]
    }
   ],
   "source": [
    "from pyspark.sql import SparkSession\n",
    "from pyspark.sql.functions import *\n",
    "from pyspark.sql.types import *\n",
    "\n",
    "spark = (\n",
    "    SparkSession.builder\n",
    "    .master('spark://172.19.0.4:7777')\n",
    "    .appName('ETL_LAB03')\n",
    "    .getOrCreate()\n",
    ")"
   ]
  },
  {
   "cell_type": "code",
   "execution_count": 17,
   "metadata": {
    "ExecuteTime": {
     "end_time": "2023-08-23T22:43:03.069862917Z",
     "start_time": "2023-08-23T22:43:02.042252868Z"
    }
   },
   "outputs": [
    {
     "name": "stdout",
     "output_type": "stream",
     "text": [
      "1474\n",
      "+--------+--------+---------------------------------------------------------------------------------------+\n",
      "|segmento|cnpj    |nome                                                                                   |\n",
      "+--------+--------+---------------------------------------------------------------------------------------+\n",
      "|S4      |14388334|JMALUCELLI                                                                             |\n",
      "|S5      |22753982|COOPERATIVA DE CRDITO DE LIVRE ADMISSO DE SETE LAGOAS LTDA  SICOOB CREDISETE           |\n",
      "|S5      |20833976|COOPERATIVA DE CRDITO DOS SERVIDORES PBLICOS MUNICIPAIS DE TIMTEO LTDA  COOPERTIM      |\n",
      "|S5      |10453077|COOPERATIVA DE CRDITO RURAL COM INTERAO SOLIDRIA DE POUSO REDONDO  CRESOL POUSO REDONDO|\n",
      "|S4      |53518684|HSBC                                                                                   |\n",
      "+--------+--------+---------------------------------------------------------------------------------------+\n",
      "only showing top 5 rows\n",
      "Number of rows x columns - Bank Data: 1474 x 3\n"
     ]
    }
   ],
   "source": [
    "bank_df = spark.read.csv('../data/bronze/banks/EnquadramentoInicia_v2.tsv', header=True, sep='\\t')\n",
    "\n",
    "# Data Transformation for bank dataset\n",
    "for column in bank_df.columns:\n",
    "    bank_df = bank_df.withColumnRenamed(\n",
    "        existing=column, \n",
    "        new=column.lower()\n",
    "    )\n",
    "\n",
    "for replacement_action in [\n",
    "    (\"nome\", \"- PRUDENCIAL\", \"\"),\n",
    "    (\"nome\",\"(\\.+|\\/+|\\-+)\", \"\"),\n",
    "]:\n",
    "    bank_df = bank_df.withColumn(\n",
    "        \"nome\", regexp_replace(\n",
    "            replacement_action[0],\n",
    "            replacement_action[1],\n",
    "            replacement_action[2]\n",
    "        )\n",
    "    )\n",
    "\n",
    "print(bank_df.count())\n",
    "bank_df = bank_df.na.drop()\n",
    "bank_df = bank_df.dropDuplicates()\n",
    "bank_df.show(5, truncate=False)\n",
    "print(f\"Number of rows x columns - Bank Data: {bank_df.count()} x {len(bank_df.columns)}\")\n",
    "bank_df.write.mode(\"overwrite\").csv(\"../data/silver/banks.csv\", header=True, sep=\";\")"
   ]
  },
  {
   "cell_type": "code",
   "execution_count": 16,
   "metadata": {
    "ExecuteTime": {
     "end_time": "2023-08-23T22:17:12.650479526Z",
     "start_time": "2023-08-23T22:17:10.677855006Z"
    }
   },
   "outputs": [
    {
     "name": "stdout",
     "output_type": "stream",
     "text": [
      "+-------------------------------+-------------+-------------+--------------+--------------+---------------------------------------------------+---------------------+----------------+-----------------------------------------------------------------------------------+---------------------------+----------------------------------------------------------------------------------------------------------------+-----+-----------------+----------------------+-----------------+--------------+------------------------+-------------------------+---------------------------------+----------------------------------+--------+--------+--------------------------------------------------+-------------+\n",
      "|employer_name                  |reviews_count|culture_count|salaries_count|benefits_count|employer_website                                   |employer_headquarters|employer_founded|employer_industry                                                                  |employer_revenue           |url                                                                                                             |geral|cultura_e_valores|diversidade_e_inclusão|qualidade_de_vida|alta_liderança|remuneração_e_benefícios|oportunidades_de_carreira|recomendam_para_outras_pessoas(%)|perspectiva_positiva_da_empresa(%)|cnpj    |segmento|nome                                              |match_percent|\n",
      "+-------------------------------+-------------+-------------+--------------+--------------+---------------------------------------------------+---------------------+----------------+-----------------------------------------------------------------------------------+---------------------------+----------------------------------------------------------------------------------------------------------------+-----+-----------------+----------------------+-----------------+--------------+------------------------+-------------------------+---------------------------------+----------------------------------+--------+--------+--------------------------------------------------+-------------+\n",
      "|Apex Group                     |450          |281          |592           |74            |http://www.apexgroup.com                           |Hamilton, Bermuda    |2003.0          |/Explorar/melhores-gestão-de-ativos-e-investimentos-empresas_II.9,41_IIND200146.htm|Mais de US$ 10 bilhões     |https://www.glassdoor.com.br/Vis%C3%A3o-geral/Trabalhar-na-Apex-Group-EI_IE764729.13,23.htm                     |3.2  |2.9              |3.5                   |3.0              |2.9           |2.7                     |3.2                      |52.0                             |53.0                              |655522  |        |APE POUPEX                                        |70           |\n",
      "|Banco Alfa                     |175          |74           |271           |105           |http://www.alfanet.com.br                          |São Paulo, Brasil    |1925.0          |/Explorar/melhores-serviços-bancários-e-de-crédito-empresas_II.9,40_IIND200048.htm |Desconhecida/não se aplica |https://www.glassdoor.com.br/Vis%C3%A3o-geral/Trabalhar-na-Banco-Alfa-EI_IE817306.13,23.htm                     |3.5  |3.2              |3.2                   |3.1              |2.8           |3.8                     |2.7                      |68.0                             |47.0                              |58160789|        |SAFRA                                             |67           |\n",
      "|China Construction Bank        |871          |194          |720           |240           |http://www.ccb.com                                 |Pequim, China        |null            |/Explorar/melhores-serviços-bancários-e-de-crédito-empresas_II.9,40_IIND200048.htm |Mais de US$ 10 bilhões     |https://www.glassdoor.com.br/Vis%C3%A3o-geral/Trabalhar-na-China-Construction-Bank-EI_IE12617.13,36.htm         |3.4  |3.0              |3.0                   |3.4              |2.9           |3.5                     |2.8                      |54.0                             |42.0                              |7450604 |        |CHINA CONSTRUCTION BANK (BRASIL) BANCO MULTIPLO S/|77           |\n",
      "|Mercedes-Benz Mobility         |282          |90           |513           |118           |https://www.mercedes-benz-mobility.com/de/karriere/|Estugarda, Alemanha  |1990.0          |/Explorar/melhores-serviços-bancários-e-de-crédito-empresas_II.9,40_IIND200048.htm |Mais de US$ 10 bilhões     |https://www.glassdoor.com.br/Vis%C3%A3o-geral/Trabalhar-na-Mercedes-Benz-Mobility-EI_IE38563.13,35.htm          |4.1  |4.1              |4.0                   |4.4              |3.7           |4.0                     |3.6                      |87.0                             |51.0                              |60814191|        |MERCEDES-BENZ                                     |73           |\n",
      "|Sumitomo Mitsui Financial Group|903          |246          |1300          |290           |http://www.smfg.co.jp                              |Tóquio, Japão        |1996.0          |/Explorar/melhores-gestão-de-ativos-e-investimentos-empresas_II.9,41_IIND200146.htm|Mais de US$ 10 bilhões     |https://www.glassdoor.com.br/Vis%C3%A3o-geral/Trabalhar-na-Sumitomo-Mitsui-Financial-Group-EI_IE256138.13,44.htm|3.4  |3.2              |3.3                   |3.4              |3.1           |3.3                     |3.1                      |56.0                             |53.0                              |60518222|        |BANCO SUMITOMO MITSUI BRASIL S.A.                 |65           |\n",
      "|BNP Paribas                    |13000        |4100         |20000         |3600          |http://www.group.bnpparibas                        |Paris, França        |2000.0          |/Explorar/melhores-serviços-bancários-e-de-crédito-empresas_II.9,40_IIND200048.htm |Mais de US$ 10 bilhões     |https://www.glassdoor.com.br/Vis%C3%A3o-geral/Trabalhar-na-BNP-Paribas-EI_IE10342.13,24.htm                     |3.8  |3.7              |4.0                   |3.8              |3.4           |3.4                     |3.5                      |77.0                             |63.0                              |        |S3      |BNP PARIBAS                                       |100          |\n",
      "|BTG Pactual                    |1600         |683          |2800          |635           |http://www.btgpactual.com                          |São Paulo, Brasil    |null            |/Explorar/melhores-gestão-de-ativos-e-investimentos-empresas_II.9,41_IIND200146.htm|Desconhecida/não se aplica |https://www.glassdoor.com.br/Vis%C3%A3o-geral/Trabalhar-na-BTG-Pactual-EI_IE411540.13,24.htm                    |4.0  |3.7              |3.5                   |2.8              |3.7           |4.4                     |4.2                      |78.0                             |73.0                              |        |S1      |BTG PACTUAL                                       |100          |\n",
      "|Banco Alfa                     |175          |74           |271           |105           |http://www.alfanet.com.br                          |São Paulo, Brasil    |1925.0          |/Explorar/melhores-serviços-bancários-e-de-crédito-empresas_II.9,40_IIND200048.htm |Desconhecida/não se aplica |https://www.glassdoor.com.br/Vis%C3%A3o-geral/Trabalhar-na-Banco-Alfa-EI_IE817306.13,23.htm                     |3.5  |3.2              |3.2                   |3.1              |2.8           |3.8                     |2.7                      |68.0                             |47.0                              |        |S3      |ALFA                                              |100          |\n",
      "|Banco BMG                      |445          |232          |704           |277           |http://www.bancobmg.com.br                         |São Paulo, Brasil    |1930.0          |/Explorar/melhores-serviços-bancários-e-de-crédito-empresas_II.9,40_IIND200048.htm |De US$ 1 a US$ 5 milhões   |https://www.glassdoor.com.br/Vis%C3%A3o-geral/Trabalhar-na-Banco-BMG-EI_IE2482923.13,22.htm                     |4.1  |3.9              |4.1                   |3.7              |3.6           |4.2                     |3.5                      |79.0                             |63.0                              |        |S3      |BMG                                               |100          |\n",
      "|Banco Bradesco                 |11000        |3300         |19000         |3200          |http://www.bancobradesco.com.br                    |Osasco, Brasil       |1943.0          |/Explorar/melhores-serviços-bancários-e-de-crédito-empresas_II.9,40_IIND200048.htm |Mais de US$ 10 bilhões     |https://www.glassdoor.com.br/Vis%C3%A3o-geral/Trabalhar-na-Banco-Bradesco-EI_IE10997.13,27.htm                  |4.2  |3.8              |3.9                   |3.4              |3.4           |4.3                     |3.8                      |81.0                             |66.0                              |        |S1      |BRADESCO                                          |100          |\n",
      "|Banco Daycoval                 |300          |157          |521           |107           |https://www.daycoval.com.br                        |São Paulo, Brasil    |1971.0          |/Explorar/melhores-serviços-bancários-e-de-crédito-empresas_II.9,40_IIND200048.htm |De US$ 25 a US$ 100 milhões|https://www.glassdoor.com.br/Vis%C3%A3o-geral/Trabalhar-na-Banco-Daycoval-EI_IE1480352.13,27.htm                |4.0  |3.7              |3.6                   |3.4              |3.3           |4.1                     |3.4                      |78.0                             |72.0                              |        |S3      |BANCO DAYCOVAL S.A                                |100          |\n",
      "|Banco Fibra                    |119          |41           |172           |37            |http://www.bancofibra.com.br                       |São Paulo, Brasil    |null            |/Explorar/melhores-serviços-bancários-e-de-crédito-empresas_II.9,40_IIND200048.htm |Desconhecida/não se aplica |https://www.glassdoor.com.br/Vis%C3%A3o-geral/Trabalhar-na-Banco-Fibra-EI_IE744986.13,24.htm                    |4.3  |4.3              |4.3                   |3.8              |3.7           |4.2                     |3.6                      |87.0                             |84.0                              |        |S3      |BANCO FIBRA S.A.                                  |100          |\n",
      "|Banco Original                 |651          |286          |1100          |261           |http://www.original.com.br                         |São Paulo, Brasil    |2016.0          |/Explorar/melhores-serviços-bancários-e-de-crédito-empresas_II.9,40_IIND200048.htm |Desconhecida/não se aplica |https://www.glassdoor.com.br/Vis%C3%A3o-geral/Trabalhar-na-Banco-Original-EI_IE1026577.13,27.htm                |3.8  |3.4              |3.5                   |3.4              |3.1           |4.0                     |3.3                      |71.0                             |53.0                              |        |S3      |ORIGINAL                                          |100          |\n",
      "|Banco PAN                      |1100         |520          |1700          |493           |http://www.bancopan.com.br                         |São Paulo, Brasil    |2011.0          |/Explorar/melhores-serviços-bancários-e-de-crédito-empresas_II.9,40_IIND200048.htm |Desconhecida/não se aplica |https://www.glassdoor.com.br/Vis%C3%A3o-geral/Trabalhar-na-Banco-PAN-EI_IE1184444.13,22.htm                     |4.4  |4.2              |4.4                   |3.9              |3.9           |4.6                     |4.0                      |91.0                             |79.0                              |        |S3      |PAN                                               |100          |\n",
      "|Banco Pine                     |121          |45           |216           |63            |http://www.pine.com                                |São Paulo, Brasil    |1997.0          |/Explorar/melhores-serviços-bancários-e-de-crédito-empresas_II.9,40_IIND200048.htm |Desconhecida/não se aplica |https://www.glassdoor.com.br/Vis%C3%A3o-geral/Trabalhar-na-Banco-Pine-EI_IE1086238.13,23.htm                    |3.8  |3.5              |3.5                   |3.4              |3.0           |3.9                     |3.5                      |71.0                             |50.0                              |        |S3      |PINE                                              |100          |\n",
      "|Banco Votorantim               |1400         |563          |2100          |574           |http://www.bancobv.com.br                          |São Paulo, Brasil    |1991.0          |/Explorar/melhores-gestão-de-ativos-e-investimentos-empresas_II.9,41_IIND200146.htm|Desconhecida/não se aplica |https://www.glassdoor.com.br/Vis%C3%A3o-geral/Trabalhar-na-banco-BV-EI_IE333951.13,21.htm                       |4.4  |4.3              |4.4                   |4.1              |3.9           |4.6                     |3.9                      |93.0                             |79.0                              |        |S2      |VOTORANTIM                                        |100          |\n",
      "|Banco do Brasil                |5000         |1100         |9200          |1200          |https://www.bb.com.br                              |Brasília, Brasil     |1808.0          |/Explorar/melhores-serviços-bancários-e-de-crédito-empresas_II.9,40_IIND200048.htm |Desconhecida/não se aplica |https://www.glassdoor.com.br/Vis%C3%A3o-geral/Trabalhar-na-Banco-do-Brasil-EI_IE3945.13,28.htm                  |4.3  |3.9              |4.0                   |3.7              |3.5           |4.2                     |3.8                      |86.0                             |72.0                              |        |S1      |BANCO DO BRASIL                                   |100          |\n",
      "|Banco do Nordeste do Brasil    |525          |113          |840           |115           |http://www.bnb.gov.br                              |Fortaleza, Brasil    |null            |/Explorar/melhores-gestão-de-ativos-e-investimentos-empresas_II.9,41_IIND200146.htm|Desconhecido/Não se aplica |https://www.glassdoor.com.br/Vis%C3%A3o-geral/Trabalhar-na-Banco-do-Nordeste-do-Brasil-EI_IE436304.13,40.htm    |4.5  |4.4              |4.3                   |4.3              |4.1           |4.2                     |4.0                      |90.0                             |83.0                              |        |S2      |BANCO DO NORDESTE DO BRASIL S.A.                  |100          |\n",
      "|Bank Of Tokyo-Mitsubishi UFJ   |770          |150          |1100          |228           |http://www.bk.mufg.jp/global                       |Tóquio, Japão        |1919.0          |/Explorar/melhores-gestão-de-ativos-e-investimentos-empresas_II.9,41_IIND200146.htm|Mais de US$ 10 bilhões     |https://www.glassdoor.com.br/Vis%C3%A3o-geral/Trabalhar-na-Bank-Of-Tokyo-Mitsubishi-UFJ-EI_IE240039.13,41.htm   |3.6  |3.6              |3.5                   |3.4              |3.3           |3.6                     |3.3                      |65.0                             |43.0                              |        |S3      |BANCO TOKYO-MITSUBISHI BM S.A.                    |80           |\n",
      "|Banrisul                       |1000         |155          |1700          |127           |http://www.banrisul.com.br                         |Porto Alegre, Brasil |null            |/Explorar/melhores-serviços-bancários-e-de-crédito-empresas_II.9,40_IIND200048.htm |De US$ 25 a US$ 100 milhões|https://www.glassdoor.com.br/Vis%C3%A3o-geral/Trabalhar-na-Banrisul-EI_IE678973.13,21.htm                       |4.2  |3.6              |3.8                   |3.7              |3.4           |4.1                     |3.3                      |84.0                             |59.0                              |        |S2      |BANRISUL                                          |100          |\n",
      "+-------------------------------+-------------+-------------+--------------+--------------+---------------------------------------------------+---------------------+----------------+-----------------------------------------------------------------------------------+---------------------------+----------------------------------------------------------------------------------------------------------------+-----+-----------------+----------------------+-----------------+--------------+------------------------+-------------------------+---------------------------------+----------------------------------+--------+--------+--------------------------------------------------+-------------+\n",
      "only showing top 20 rows\n",
      "\n",
      "39\n",
      "+-------------------------------+-------------+-------------+--------------+--------------+---------------------------------------------------+---------------------------+----------------+-----------------------------------------------------------------------------------+---------------------------+----------------------------------------------------------------------------------------------------------------+-----+-----------------+----------------------+-----------------+--------------+------------------------+-------------------------+---------------------------------+----------------------------------+--------+--------+-------------------------------+-------------+\n",
      "|employer_name                  |reviews_count|culture_count|salaries_count|benefits_count|employer_website                                   |employer_headquarters      |employer_founded|employer_industry                                                                  |employer_revenue           |url                                                                                                             |geral|cultura_e_valores|diversidade_e_inclusão|qualidade_de_vida|alta_liderança|remuneração_e_benefícios|oportunidades_de_carreira|recomendam_para_outras_pessoas(%)|perspectiva_positiva_da_empresa(%)|cnpj    |segmento|nome                           |match_percent|\n",
      "+-------------------------------+-------------+-------------+--------------+--------------+---------------------------------------------------+---------------------------+----------------+-----------------------------------------------------------------------------------+---------------------------+----------------------------------------------------------------------------------------------------------------+-----+-----------------+----------------------+-----------------+--------------+------------------------+-------------------------+---------------------------------+----------------------------------+--------+--------+-------------------------------+-------------+\n",
      "|Apex Group                     |450          |281          |592           |74            |http://www.apexgroup.com                           |Hamilton, Bermuda          |2003.0          |/Explorar/melhores-gestão-de-ativos-e-investimentos-empresas_II.9,41_IIND200146.htm|Mais de US$ 10 bilhões     |https://www.glassdoor.com.br/Vis%C3%A3o-geral/Trabalhar-na-Apex-Group-EI_IE764729.13,23.htm                     |3.2  |2.9              |3.5                   |3.0              |2.9           |2.7                     |3.2                      |52.0                             |53.0                              |655522  |        |APE POUPEX                     |70           |\n",
      "|Mercedes-Benz Mobility         |282          |90           |513           |118           |https://www.mercedes-benz-mobility.com/de/karriere/|Estugarda, Alemanha        |1990.0          |/Explorar/melhores-serviços-bancários-e-de-crédito-empresas_II.9,40_IIND200048.htm |Mais de US$ 10 bilhões     |https://www.glassdoor.com.br/Vis%C3%A3o-geral/Trabalhar-na-Mercedes-Benz-Mobility-EI_IE38563.13,35.htm          |4.1  |4.1              |4.0                   |4.4              |3.7           |4.0                     |3.6                      |87.0                             |51.0                              |60814191|        |MERCEDESBENZ                   |73           |\n",
      "|Sumitomo Mitsui Financial Group|903          |246          |1300          |290           |http://www.smfg.co.jp                              |Tóquio, Japão              |1996.0          |/Explorar/melhores-gestão-de-ativos-e-investimentos-empresas_II.9,41_IIND200146.htm|Mais de US$ 10 bilhões     |https://www.glassdoor.com.br/Vis%C3%A3o-geral/Trabalhar-na-Sumitomo-Mitsui-Financial-Group-EI_IE256138.13,44.htm|3.4  |3.2              |3.3                   |3.4              |3.1           |3.3                     |3.1                      |56.0                             |53.0                              |60518222|        |BANCO SUMITOMO MITSUI BRASIL SA|65           |\n",
      "|Banco Alfa                     |175          |74           |271           |105           |http://www.alfanet.com.br                          |São Paulo, Brasil          |1925.0          |/Explorar/melhores-serviços-bancários-e-de-crédito-empresas_II.9,40_IIND200048.htm |Desconhecida/não se aplica |https://www.glassdoor.com.br/Vis%C3%A3o-geral/Trabalhar-na-Banco-Alfa-EI_IE817306.13,23.htm                     |3.5  |3.2              |3.2                   |3.1              |2.8           |3.8                     |2.7                      |68.0                             |47.0                              |58160789|        |SAFRA                          |67           |\n",
      "|Banco Bradesco                 |11000        |3300         |19000         |3200          |http://www.bancobradesco.com.br                    |Osasco, Brasil             |1943.0          |/Explorar/melhores-serviços-bancários-e-de-crédito-empresas_II.9,40_IIND200048.htm |Mais de US$ 10 bilhões     |https://www.glassdoor.com.br/Vis%C3%A3o-geral/Trabalhar-na-Banco-Bradesco-EI_IE10997.13,27.htm                  |4.2  |3.8              |3.9                   |3.4              |3.4           |4.3                     |3.8                      |81.0                             |66.0                              |        |S1      |BRADESCO                       |100          |\n",
      "|Merrill Lynch                  |5600         |1200         |9900          |1200          |http://www.ml.com                                  |New York, Estados Unidos   |1820.0          |/Explorar/melhores-gestão-de-ativos-e-investimentos-empresas_II.9,41_IIND200146.htm|Mais de US$ 10 bilhões     |https://www.glassdoor.com.br/Vis%C3%A3o-geral/Trabalhar-na-Merrill-Lynch-EI_IE440.13,26.htm                     |3.8  |3.6              |3.9                   |3.5              |3.5           |3.8                     |3.8                      |66.0                             |61.0                              |        |S3      |BOFA MERRILL LYNCH             |84           |\n",
      "|Banco Daycoval                 |300          |157          |521           |107           |https://www.daycoval.com.br                        |São Paulo, Brasil          |1971.0          |/Explorar/melhores-serviços-bancários-e-de-crédito-empresas_II.9,40_IIND200048.htm |De US$ 25 a US$ 100 milhões|https://www.glassdoor.com.br/Vis%C3%A3o-geral/Trabalhar-na-Banco-Daycoval-EI_IE1480352.13,27.htm                |4.0  |3.7              |3.6                   |3.4              |3.3           |4.1                     |3.4                      |78.0                             |72.0                              |        |S3      |BANCO DAYCOVAL SA              |100          |\n",
      "|JPMorgan Chase & Co            |22000        |8800         |65000         |9600          |https://www.jpmorganchase.com/                     |New York, Estados Unidos   |1799.0          |/Explorar/melhores-serviços-bancários-e-de-crédito-empresas_II.9,40_IIND200048.htm |Mais de US$ 10 bilhões     |https://www.glassdoor.com.br/Vis%C3%A3o-geral/Trabalhar-na-JPMorgan-Chase-and-Co-EI_IE5224839.13,34.htm         |4.0  |4.0              |4.2                   |3.6              |3.6           |3.9                     |4.0                      |80.0                             |76.0                              |        |S3      |JP MORGAN CHASE                |88           |\n",
      "|Sicredi                        |2900         |1300         |4800          |1100          |http://www.sicredi.com.br                          |Porto Alegre, Brasil       |1903.0          |/Explorar/melhores-serviços-bancários-e-de-crédito-empresas_II.9,40_IIND200048.htm |Mais de US$ 10 bilhões     |https://www.glassdoor.com.br/Vis%C3%A3o-geral/Trabalhar-na-Sicredi-EI_IE661772.13,20.htm                        |4.4  |4.4              |4.2                   |4.3              |3.9           |4.1                     |4.1                      |89.0                             |80.0                              |        |S3      |SICREDI                        |100          |\n",
      "|Deutsche Bank                  |12000        |3200         |21000         |3100          |https://careers.db.com/                            |Frankfurt am Main, Alemanha|1870.0          |/Explorar/melhores-serviços-bancários-e-de-crédito-empresas_II.9,40_IIND200048.htm |Mais de US$ 10 bilhões     |https://www.glassdoor.com.br/Vis%C3%A3o-geral/Trabalhar-na-Deutsche-Bank-EI_IE3150.13,26.htm                    |3.9  |3.8              |4.0                   |3.8              |3.5           |3.6                     |3.7                      |78.0                             |70.0                              |        |S3      |DEUTSCHE                       |100          |\n",
      "|Votorantim                     |608          |177          |1000          |200           |http://www.votorantim.com.br                       |São Paulo, Brasil          |1918.0          |/Explorar/melhores-gestão-de-ativos-e-investimentos-empresas_II.9,41_IIND200146.htm|Desconhecida/não se aplica |https://www.glassdoor.com.br/Vis%C3%A3o-geral/Trabalhar-na-Votorantim-EI_IE42662.13,23.htm                      |4.1  |4.2              |4.2                   |3.8              |3.7           |3.3                     |3.8                      |85.0                             |79.0                              |        |S2      |VOTORANTIM                     |100          |\n",
      "|Banco Original                 |651          |286          |1100          |261           |http://www.original.com.br                         |São Paulo, Brasil          |2016.0          |/Explorar/melhores-serviços-bancários-e-de-crédito-empresas_II.9,40_IIND200048.htm |Desconhecida/não se aplica |https://www.glassdoor.com.br/Vis%C3%A3o-geral/Trabalhar-na-Banco-Original-EI_IE1026577.13,27.htm                |3.8  |3.4              |3.5                   |3.4              |3.1           |4.0                     |3.3                      |71.0                             |53.0                              |        |S3      |ORIGINAL                       |100          |\n",
      "|Santander                      |17000        |5900         |29000         |5100          |http://www.santandercareers.com                    |Madrid, Espanha            |1856.0          |/Explorar/melhores-serviços-bancários-e-de-crédito-empresas_II.9,40_IIND200048.htm |Mais de US$ 10 bilhões     |https://www.glassdoor.com.br/Vis%C3%A3o-geral/Trabalhar-na-Santander-EI_IE828048.13,22.htm                      |3.9  |3.7              |4.0                   |3.4              |3.4           |4.0                     |3.8                      |75.0                             |65.0                              |        |S1      |SANTANDER                      |100          |\n",
      "|Apex Group                     |432          |271          |561           |74            |http://www.apexgroup.com                           |Hamilton, Bermuda          |2003.0          |/Explorar/melhores-gestão-de-ativos-e-investimentos-empresas_II.9,41_IIND200146.htm|Mais de US$ 10 bilhões     |https://www.glassdoor.com.br/Vis%C3%A3o-geral/Trabalhar-na-Apex-Group-EI_IE764729.13,23.htm                     |3.2  |2.9              |3.4                   |3.0              |2.9           |2.7                     |3.2                      |50.0                             |52.0                              |        |S3      |APE POUPEX                     |70           |\n",
      "|Banco Votorantim               |1400         |563          |2100          |574           |http://www.bancobv.com.br                          |São Paulo, Brasil          |1991.0          |/Explorar/melhores-gestão-de-ativos-e-investimentos-empresas_II.9,41_IIND200146.htm|Desconhecida/não se aplica |https://www.glassdoor.com.br/Vis%C3%A3o-geral/Trabalhar-na-banco-BV-EI_IE333951.13,21.htm                       |4.4  |4.3              |4.4                   |4.1              |3.9           |4.6                     |3.9                      |93.0                             |79.0                              |        |S2      |VOTORANTIM                     |100          |\n",
      "|Banco Pine                     |121          |45           |216           |63            |http://www.pine.com                                |São Paulo, Brasil          |1997.0          |/Explorar/melhores-serviços-bancários-e-de-crédito-empresas_II.9,40_IIND200048.htm |Desconhecida/não se aplica |https://www.glassdoor.com.br/Vis%C3%A3o-geral/Trabalhar-na-Banco-Pine-EI_IE1086238.13,23.htm                    |3.8  |3.5              |3.5                   |3.4              |3.0           |3.9                     |3.5                      |71.0                             |50.0                              |        |S3      |PINE                           |100          |\n",
      "|Goldman Sachs                  |17000        |4400         |36000         |4100          |http://www.goldmansachs.com                        |New York, Estados Unidos   |1869.0          |/Explorar/melhores-gestão-de-ativos-e-investimentos-empresas_II.9,41_IIND200146.htm|Mais de US$ 10 bilhões     |https://www.glassdoor.com.br/Vis%C3%A3o-geral/Trabalhar-na-Goldman-Sachs-EI_IE2800.13,26.htm                    |3.9  |3.7              |4.0                   |2.9              |3.5           |3.8                     |4.0                      |72.0                             |63.0                              |        |S3      |GOLDMAN SACHS                  |100          |\n",
      "|J.P. Morgan                    |859          |322          |1600          |227           |http://www.jpmorgan.com                            |New York, Estados Unidos   |1799.0          |/Explorar/melhores-gestão-de-ativos-e-investimentos-empresas_II.9,41_IIND200146.htm|Mais de US$ 10 bilhões     |https://www.glassdoor.com.br/Vis%C3%A3o-geral/Trabalhar-na-J-P-Morgan-EI_IE145.13,23.htm                        |4.1  |4.0              |4.2                   |3.5              |3.7           |3.9                     |4.0                      |82.0                             |77.0                              |        |S3      |JP MORGAN CHASE                |75           |\n",
      "|Credit Suisse                  |11000        |3400         |22000         |2900          |http://www.credit-suisse.com                       |Zurique, Suíça             |1856.0          |/Explorar/melhores-gestão-de-ativos-e-investimentos-empresas_II.9,41_IIND200146.htm|Mais de US$ 10 bilhões     |https://www.glassdoor.com.br/Vis%C3%A3o-geral/Trabalhar-na-Credit-Suisse-EI_IE3141.13,26.htm                    |3.8  |3.8              |4.1                   |3.9              |3.3           |3.6                     |3.7                      |68.0                             |34.0                              |        |S2      |CREDIT SUISSE                  |100          |\n",
      "|Morgan Stanley                 |17000        |4600         |33000         |4800          |http://www.morganstanley.com                       |New York, Estados Unidos   |1935.0          |/Explorar/melhores-gestão-de-ativos-e-investimentos-empresas_II.9,41_IIND200146.htm|Mais de US$ 10 bilhões     |https://www.glassdoor.com.br/Vis%C3%A3o-geral/Trabalhar-na-Morgan-Stanley-EI_IE2282.13,27.htm                   |4.0  |4.0              |4.1                   |3.6              |3.7           |3.7                     |3.9                      |81.0                             |76.0                              |        |S3      |MORGAN STANLEY                 |100          |\n",
      "+-------------------------------+-------------+-------------+--------------+--------------+---------------------------------------------------+---------------------------+----------------+-----------------------------------------------------------------------------------+---------------------------+----------------------------------------------------------------------------------------------------------------+-----+-----------------+----------------------+-----------------+--------------+------------------------+-------------------------+---------------------------------+----------------------------------+--------+--------+-------------------------------+-------------+\n",
      "Number of rows x columns - Employee Data: 32 x 24\n"
     ]
    }
   ],
   "source": [
    "# Lendo separado devido a estrutura diferente\n",
    "employee_df_1 = spark.read.format(\"csv\").option(\"header\", \"true\").option('delimiter','|').load(\"../data/bronze/employees/glassdoor_consolidado_join_match_less_v2.csv\")\n",
    "employee_df_2 = spark.read.format(\"csv\").option(\"header\", \"true\").option('delimiter','|').load(\"../data/bronze/employees/glassdoor_consolidado_join_match_v2.csv\")\n",
    "\n",
    "# Criando colunas\n",
    "employee_df_1 = employee_df_1.withColumn('Segmento', lit(''))\n",
    "employee_df_2 = employee_df_2.withColumn('CNPJ', lit(''))\n",
    "\n",
    "# Ordenando as colunas\n",
    "columns = [\"employer_name\", \"reviews_count\", \"culture_count\", \"salaries_count\", \"benefits_count\", \"employer-website\", \"employer-headquarters\", \"employer-founded\", \"employer-industry\", \"employer-revenue\", \"url\", \"Geral\", \"Cultura e valores\", \"Diversidade e inclusão\", \"Qualidade de vida\", \"Alta liderança\", \"Remuneração e benefícios\", \"Oportunidades de carreira\", \"Recomendam para outras pessoas(%)\", \"Perspectiva positiva da empresa(%)\", \"CNPJ\", \"Segmento\", \"Nome\", \"match_percent\"]\n",
    "\n",
    "employee_df_1 = employee_df_1.select(columns)\n",
    "employee_df_2 = employee_df_2.select(columns)\n",
    "\n",
    "# unindo os dados\n",
    "employee_df = employee_df_1.union(employee_df_2)\n",
    "\n",
    "# Data Transformation for employee dataset\n",
    "for column in employee_df.columns:\n",
    "    employee_df = employee_df.withColumnRenamed(\n",
    "        column, \n",
    "        column.replace(\"-\",\"_\").replace(\" \",\"_\").lower()\n",
    "    )\n",
    "\n",
    "employee_df.show(truncate=False)\n",
    "employee_df.cache()\n",
    "\n",
    "for replacement_action in [\n",
    "    (\"nome\", \"- PRUDENCIAL\", \"\"),\n",
    "    (\"nome\",\"(\\.+|\\/+|\\-+)\", \"\"),\n",
    "]:\n",
    "    employee_df = employee_df.withColumn(\n",
    "        \"nome\", regexp_replace(\n",
    "            replacement_action[0],\n",
    "            replacement_action[1],\n",
    "            replacement_action[2]\n",
    "        )\n",
    "    )\n",
    "\n",
    "print(employee_df.count())\n",
    "employee_df = employee_df.na.drop()\n",
    "employee_df = employee_df.dropDuplicates()\n",
    "employee_df.show(5, truncate=False)\n",
    "print(f\"Number of rows x columns - Employee Data: {employee_df.count()} x {len(employee_df.columns)}\")"
   ]
  },
  {
   "cell_type": "code",
   "execution_count": null,
   "outputs": [],
   "source": [],
   "metadata": {
    "collapsed": false
   }
  }
 ],
 "metadata": {
  "kernelspec": {
   "display_name": "Python 3",
   "language": "python",
   "name": "python3"
  },
  "language_info": {
   "codemirror_mode": {
    "name": "ipython",
    "version": 3
   },
   "file_extension": ".py",
   "mimetype": "text/x-python",
   "name": "python",
   "nbconvert_exporter": "python",
   "pygments_lexer": "ipython3",
   "version": "3.11.0"
  },
  "orig_nbformat": 4
 },
 "nbformat": 4,
 "nbformat_minor": 2
}
