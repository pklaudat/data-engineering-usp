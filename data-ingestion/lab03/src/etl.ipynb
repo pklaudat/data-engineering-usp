{
 "cells": [
  {
   "cell_type": "code",
   "execution_count": 204,
   "metadata": {
    "ExecuteTime": {
     "end_time": "2023-08-24T01:34:34.118043370Z",
     "start_time": "2023-08-24T01:34:34.077214586Z"
    }
   },
   "outputs": [],
   "source": [
    "from pyspark.sql import SparkSession\n",
    "from pyspark.sql.functions import *\n",
    "from pyspark.sql.types import *\n",
    "\n",
    "spark = (\n",
    "    SparkSession.builder\n",
    "    .master('spark://172.19.0.4:7777')\n",
    "    .appName('ETL_LAB03')\n",
    "    .getOrCreate()\n",
    ")"
   ]
  },
  {
   "cell_type": "code",
   "execution_count": 205,
   "metadata": {
    "ExecuteTime": {
     "end_time": "2023-08-24T01:34:35.388651466Z",
     "start_time": "2023-08-24T01:34:34.916655915Z"
    }
   },
   "outputs": [
    {
     "name": "stdout",
     "output_type": "stream",
     "text": [
      "1474\n",
      "+--------+--------+------------------------+\n",
      "|segmento|cnpj    |nome                    |\n",
      "+--------+--------+------------------------+\n",
      "|S1      |0       |BANCO DO BRASIL         |\n",
      "|S1      |60746948|BRADESCO                |\n",
      "|S1      |30306294|BTG PACTUAL             |\n",
      "|S1      |360305  |CAIXA ECONOMICA FEDERAL |\n",
      "|S1      |60872504|ITAU                    |\n",
      "+--------+--------+------------------------+\n",
      "only showing top 5 rows\n",
      "\n",
      "Number of rows x columns - Bank Data: 1474 x 3\n"
     ]
    }
   ],
   "source": [
    "bank_df = spark.read.csv('../data/bronze/banks/EnquadramentoInicia_v2.tsv', header=True, sep='\\t')\n",
    "\n",
    "# Data Transformation for bank dataset\n",
    "for column in bank_df.columns:\n",
    "    bank_df = bank_df.withColumnRenamed(\n",
    "        existing=column, \n",
    "        new=column.lower()\n",
    "    )\n",
    "\n",
    "for replacement_action in [\n",
    "    (\"nome\", \"- PRUDENCIAL\", \"\"),\n",
    "    (\"nome\",\"(\\.+|\\/+|\\-+)\", \"\"),\n",
    "]:\n",
    "    bank_df = bank_df.withColumn(\n",
    "        \"nome\", regexp_replace(\n",
    "            replacement_action[0],\n",
    "            replacement_action[1],\n",
    "            replacement_action[2]\n",
    "        )\n",
    "    )\n",
    "\n",
    "print(bank_df.count())\n",
    "# bank_df = bank_df.na.drop()\n",
    "# bank_df = bank_df.dropDuplicates()\n",
    "bank_df.show(5, truncate=False)\n",
    "print(f\"Number of rows x columns - Bank Data: {bank_df.count()} x {len(bank_df.columns)}\")\n",
    "bank_df.write.mode(\"overwrite\").csv(\"../data/silver/banks\", header=True, sep=\";\")"
   ]
  },
  {
   "cell_type": "code",
   "execution_count": 206,
   "metadata": {
    "ExecuteTime": {
     "end_time": "2023-08-24T01:34:38.299725174Z",
     "start_time": "2023-08-24T01:34:37.179358511Z"
    }
   },
   "outputs": [
    {
     "name": "stdout",
     "output_type": "stream",
     "text": [
      "+-------------------------------+-------------+-------------+--------------+--------------+---------------------------------------------------+---------------------+----------------+-----------------------------------------------------------------------------------+---------------------------+----------------------------------------------------------------------------------------------------------------+-----+-----------------+----------------------+-----------------+--------------+------------------------+-------------------------+---------------------------------+----------------------------------+--------+--------+--------------------------------------------------+-------------+\n",
      "|employer_name                  |reviews_count|culture_count|salaries_count|benefits_count|employer_website                                   |employer_headquarters|employer_founded|employer_industry                                                                  |employer_revenue           |url                                                                                                             |geral|cultura_e_valores|diversidade_e_inclusão|qualidade_de_vida|alta_liderança|remuneração_e_benefícios|oportunidades_de_carreira|recomendam_para_outras_pessoas(%)|perspectiva_positiva_da_empresa(%)|cnpj    |segmento|nome                                              |match_percent|\n",
      "+-------------------------------+-------------+-------------+--------------+--------------+---------------------------------------------------+---------------------+----------------+-----------------------------------------------------------------------------------+---------------------------+----------------------------------------------------------------------------------------------------------------+-----+-----------------+----------------------+-----------------+--------------+------------------------+-------------------------+---------------------------------+----------------------------------+--------+--------+--------------------------------------------------+-------------+\n",
      "|Apex Group                     |450          |281          |592           |74            |http://www.apexgroup.com                           |Hamilton, Bermuda    |2003.0          |/Explorar/melhores-gestão-de-ativos-e-investimentos-empresas_II.9,41_IIND200146.htm|Mais de US$ 10 bilhões     |https://www.glassdoor.com.br/Vis%C3%A3o-geral/Trabalhar-na-Apex-Group-EI_IE764729.13,23.htm                     |3.2  |2.9              |3.5                   |3.0              |2.9           |2.7                     |3.2                      |52.0                             |53.0                              |655522  |        |APE POUPEX                                        |70           |\n",
      "|Banco Alfa                     |175          |74           |271           |105           |http://www.alfanet.com.br                          |São Paulo, Brasil    |1925.0          |/Explorar/melhores-serviços-bancários-e-de-crédito-empresas_II.9,40_IIND200048.htm |Desconhecida/não se aplica |https://www.glassdoor.com.br/Vis%C3%A3o-geral/Trabalhar-na-Banco-Alfa-EI_IE817306.13,23.htm                     |3.5  |3.2              |3.2                   |3.1              |2.8           |3.8                     |2.7                      |68.0                             |47.0                              |58160789|        |SAFRA                                             |67           |\n",
      "|China Construction Bank        |871          |194          |720           |240           |http://www.ccb.com                                 |Pequim, China        |null            |/Explorar/melhores-serviços-bancários-e-de-crédito-empresas_II.9,40_IIND200048.htm |Mais de US$ 10 bilhões     |https://www.glassdoor.com.br/Vis%C3%A3o-geral/Trabalhar-na-China-Construction-Bank-EI_IE12617.13,36.htm         |3.4  |3.0              |3.0                   |3.4              |2.9           |3.5                     |2.8                      |54.0                             |42.0                              |7450604 |        |CHINA CONSTRUCTION BANK (BRASIL) BANCO MULTIPLO S/|77           |\n",
      "|Mercedes-Benz Mobility         |282          |90           |513           |118           |https://www.mercedes-benz-mobility.com/de/karriere/|Estugarda, Alemanha  |1990.0          |/Explorar/melhores-serviços-bancários-e-de-crédito-empresas_II.9,40_IIND200048.htm |Mais de US$ 10 bilhões     |https://www.glassdoor.com.br/Vis%C3%A3o-geral/Trabalhar-na-Mercedes-Benz-Mobility-EI_IE38563.13,35.htm          |4.1  |4.1              |4.0                   |4.4              |3.7           |4.0                     |3.6                      |87.0                             |51.0                              |60814191|        |MERCEDES-BENZ                                     |73           |\n",
      "|Sumitomo Mitsui Financial Group|903          |246          |1300          |290           |http://www.smfg.co.jp                              |Tóquio, Japão        |1996.0          |/Explorar/melhores-gestão-de-ativos-e-investimentos-empresas_II.9,41_IIND200146.htm|Mais de US$ 10 bilhões     |https://www.glassdoor.com.br/Vis%C3%A3o-geral/Trabalhar-na-Sumitomo-Mitsui-Financial-Group-EI_IE256138.13,44.htm|3.4  |3.2              |3.3                   |3.4              |3.1           |3.3                     |3.1                      |56.0                             |53.0                              |60518222|        |BANCO SUMITOMO MITSUI BRASIL S.A.                 |65           |\n",
      "|BNP Paribas                    |13000        |4100         |20000         |3600          |http://www.group.bnpparibas                        |Paris, França        |2000.0          |/Explorar/melhores-serviços-bancários-e-de-crédito-empresas_II.9,40_IIND200048.htm |Mais de US$ 10 bilhões     |https://www.glassdoor.com.br/Vis%C3%A3o-geral/Trabalhar-na-BNP-Paribas-EI_IE10342.13,24.htm                     |3.8  |3.7              |4.0                   |3.8              |3.4           |3.4                     |3.5                      |77.0                             |63.0                              |        |S3      |BNP PARIBAS                                       |100          |\n",
      "|BTG Pactual                    |1600         |683          |2800          |635           |http://www.btgpactual.com                          |São Paulo, Brasil    |null            |/Explorar/melhores-gestão-de-ativos-e-investimentos-empresas_II.9,41_IIND200146.htm|Desconhecida/não se aplica |https://www.glassdoor.com.br/Vis%C3%A3o-geral/Trabalhar-na-BTG-Pactual-EI_IE411540.13,24.htm                    |4.0  |3.7              |3.5                   |2.8              |3.7           |4.4                     |4.2                      |78.0                             |73.0                              |        |S1      |BTG PACTUAL                                       |100          |\n",
      "|Banco Alfa                     |175          |74           |271           |105           |http://www.alfanet.com.br                          |São Paulo, Brasil    |1925.0          |/Explorar/melhores-serviços-bancários-e-de-crédito-empresas_II.9,40_IIND200048.htm |Desconhecida/não se aplica |https://www.glassdoor.com.br/Vis%C3%A3o-geral/Trabalhar-na-Banco-Alfa-EI_IE817306.13,23.htm                     |3.5  |3.2              |3.2                   |3.1              |2.8           |3.8                     |2.7                      |68.0                             |47.0                              |        |S3      |ALFA                                              |100          |\n",
      "|Banco BMG                      |445          |232          |704           |277           |http://www.bancobmg.com.br                         |São Paulo, Brasil    |1930.0          |/Explorar/melhores-serviços-bancários-e-de-crédito-empresas_II.9,40_IIND200048.htm |De US$ 1 a US$ 5 milhões   |https://www.glassdoor.com.br/Vis%C3%A3o-geral/Trabalhar-na-Banco-BMG-EI_IE2482923.13,22.htm                     |4.1  |3.9              |4.1                   |3.7              |3.6           |4.2                     |3.5                      |79.0                             |63.0                              |        |S3      |BMG                                               |100          |\n",
      "|Banco Bradesco                 |11000        |3300         |19000         |3200          |http://www.bancobradesco.com.br                    |Osasco, Brasil       |1943.0          |/Explorar/melhores-serviços-bancários-e-de-crédito-empresas_II.9,40_IIND200048.htm |Mais de US$ 10 bilhões     |https://www.glassdoor.com.br/Vis%C3%A3o-geral/Trabalhar-na-Banco-Bradesco-EI_IE10997.13,27.htm                  |4.2  |3.8              |3.9                   |3.4              |3.4           |4.3                     |3.8                      |81.0                             |66.0                              |        |S1      |BRADESCO                                          |100          |\n",
      "|Banco Daycoval                 |300          |157          |521           |107           |https://www.daycoval.com.br                        |São Paulo, Brasil    |1971.0          |/Explorar/melhores-serviços-bancários-e-de-crédito-empresas_II.9,40_IIND200048.htm |De US$ 25 a US$ 100 milhões|https://www.glassdoor.com.br/Vis%C3%A3o-geral/Trabalhar-na-Banco-Daycoval-EI_IE1480352.13,27.htm                |4.0  |3.7              |3.6                   |3.4              |3.3           |4.1                     |3.4                      |78.0                             |72.0                              |        |S3      |BANCO DAYCOVAL S.A                                |100          |\n",
      "|Banco Fibra                    |119          |41           |172           |37            |http://www.bancofibra.com.br                       |São Paulo, Brasil    |null            |/Explorar/melhores-serviços-bancários-e-de-crédito-empresas_II.9,40_IIND200048.htm |Desconhecida/não se aplica |https://www.glassdoor.com.br/Vis%C3%A3o-geral/Trabalhar-na-Banco-Fibra-EI_IE744986.13,24.htm                    |4.3  |4.3              |4.3                   |3.8              |3.7           |4.2                     |3.6                      |87.0                             |84.0                              |        |S3      |BANCO FIBRA S.A.                                  |100          |\n",
      "|Banco Original                 |651          |286          |1100          |261           |http://www.original.com.br                         |São Paulo, Brasil    |2016.0          |/Explorar/melhores-serviços-bancários-e-de-crédito-empresas_II.9,40_IIND200048.htm |Desconhecida/não se aplica |https://www.glassdoor.com.br/Vis%C3%A3o-geral/Trabalhar-na-Banco-Original-EI_IE1026577.13,27.htm                |3.8  |3.4              |3.5                   |3.4              |3.1           |4.0                     |3.3                      |71.0                             |53.0                              |        |S3      |ORIGINAL                                          |100          |\n",
      "|Banco PAN                      |1100         |520          |1700          |493           |http://www.bancopan.com.br                         |São Paulo, Brasil    |2011.0          |/Explorar/melhores-serviços-bancários-e-de-crédito-empresas_II.9,40_IIND200048.htm |Desconhecida/não se aplica |https://www.glassdoor.com.br/Vis%C3%A3o-geral/Trabalhar-na-Banco-PAN-EI_IE1184444.13,22.htm                     |4.4  |4.2              |4.4                   |3.9              |3.9           |4.6                     |4.0                      |91.0                             |79.0                              |        |S3      |PAN                                               |100          |\n",
      "|Banco Pine                     |121          |45           |216           |63            |http://www.pine.com                                |São Paulo, Brasil    |1997.0          |/Explorar/melhores-serviços-bancários-e-de-crédito-empresas_II.9,40_IIND200048.htm |Desconhecida/não se aplica |https://www.glassdoor.com.br/Vis%C3%A3o-geral/Trabalhar-na-Banco-Pine-EI_IE1086238.13,23.htm                    |3.8  |3.5              |3.5                   |3.4              |3.0           |3.9                     |3.5                      |71.0                             |50.0                              |        |S3      |PINE                                              |100          |\n",
      "|Banco Votorantim               |1400         |563          |2100          |574           |http://www.bancobv.com.br                          |São Paulo, Brasil    |1991.0          |/Explorar/melhores-gestão-de-ativos-e-investimentos-empresas_II.9,41_IIND200146.htm|Desconhecida/não se aplica |https://www.glassdoor.com.br/Vis%C3%A3o-geral/Trabalhar-na-banco-BV-EI_IE333951.13,21.htm                       |4.4  |4.3              |4.4                   |4.1              |3.9           |4.6                     |3.9                      |93.0                             |79.0                              |        |S2      |VOTORANTIM                                        |100          |\n",
      "|Banco do Brasil                |5000         |1100         |9200          |1200          |https://www.bb.com.br                              |Brasília, Brasil     |1808.0          |/Explorar/melhores-serviços-bancários-e-de-crédito-empresas_II.9,40_IIND200048.htm |Desconhecida/não se aplica |https://www.glassdoor.com.br/Vis%C3%A3o-geral/Trabalhar-na-Banco-do-Brasil-EI_IE3945.13,28.htm                  |4.3  |3.9              |4.0                   |3.7              |3.5           |4.2                     |3.8                      |86.0                             |72.0                              |        |S1      |BANCO DO BRASIL                                   |100          |\n",
      "|Banco do Nordeste do Brasil    |525          |113          |840           |115           |http://www.bnb.gov.br                              |Fortaleza, Brasil    |null            |/Explorar/melhores-gestão-de-ativos-e-investimentos-empresas_II.9,41_IIND200146.htm|Desconhecido/Não se aplica |https://www.glassdoor.com.br/Vis%C3%A3o-geral/Trabalhar-na-Banco-do-Nordeste-do-Brasil-EI_IE436304.13,40.htm    |4.5  |4.4              |4.3                   |4.3              |4.1           |4.2                     |4.0                      |90.0                             |83.0                              |        |S2      |BANCO DO NORDESTE DO BRASIL S.A.                  |100          |\n",
      "|Bank Of Tokyo-Mitsubishi UFJ   |770          |150          |1100          |228           |http://www.bk.mufg.jp/global                       |Tóquio, Japão        |1919.0          |/Explorar/melhores-gestão-de-ativos-e-investimentos-empresas_II.9,41_IIND200146.htm|Mais de US$ 10 bilhões     |https://www.glassdoor.com.br/Vis%C3%A3o-geral/Trabalhar-na-Bank-Of-Tokyo-Mitsubishi-UFJ-EI_IE240039.13,41.htm   |3.6  |3.6              |3.5                   |3.4              |3.3           |3.6                     |3.3                      |65.0                             |43.0                              |        |S3      |BANCO TOKYO-MITSUBISHI BM S.A.                    |80           |\n",
      "|Banrisul                       |1000         |155          |1700          |127           |http://www.banrisul.com.br                         |Porto Alegre, Brasil |null            |/Explorar/melhores-serviços-bancários-e-de-crédito-empresas_II.9,40_IIND200048.htm |De US$ 25 a US$ 100 milhões|https://www.glassdoor.com.br/Vis%C3%A3o-geral/Trabalhar-na-Banrisul-EI_IE678973.13,21.htm                       |4.2  |3.6              |3.8                   |3.7              |3.4           |4.1                     |3.3                      |84.0                             |59.0                              |        |S2      |BANRISUL                                          |100          |\n",
      "+-------------------------------+-------------+-------------+--------------+--------------+---------------------------------------------------+---------------------+----------------+-----------------------------------------------------------------------------------+---------------------------+----------------------------------------------------------------------------------------------------------------+-----+-----------------+----------------------+-----------------+--------------+------------------------+-------------------------+---------------------------------+----------------------------------+--------+--------+--------------------------------------------------+-------------+\n",
      "only showing top 20 rows\n",
      "\n",
      "23/08/23 22:34:37 WARN CacheManager: Asked to cache already cached data.\n",
      "39\n",
      "+-------------------------------+-------------+-------------+--------------+--------------+---------------------------------------------------+---------------------+----------------+-----------------------------------------------------------------------------------+--------------------------+----------------------------------------------------------------------------------------------------------------+-----+-----------------+----------------------+-----------------+--------------+------------------------+-------------------------+---------------------------------+----------------------------------+--------+--------+-------------------------------------------------+-------------+\n",
      "|employer_name                  |reviews_count|culture_count|salaries_count|benefits_count|employer_website                                   |employer_headquarters|employer_founded|employer_industry                                                                  |employer_revenue          |url                                                                                                             |geral|cultura_e_valores|diversidade_e_inclusão|qualidade_de_vida|alta_liderança|remuneração_e_benefícios|oportunidades_de_carreira|recomendam_para_outras_pessoas(%)|perspectiva_positiva_da_empresa(%)|cnpj    |segmento|nome                                             |match_percent|\n",
      "+-------------------------------+-------------+-------------+--------------+--------------+---------------------------------------------------+---------------------+----------------+-----------------------------------------------------------------------------------+--------------------------+----------------------------------------------------------------------------------------------------------------+-----+-----------------+----------------------+-----------------+--------------+------------------------+-------------------------+---------------------------------+----------------------------------+--------+--------+-------------------------------------------------+-------------+\n",
      "|Apex Group                     |450          |281          |592           |74            |http://www.apexgroup.com                           |Hamilton, Bermuda    |2003.0          |/Explorar/melhores-gestão-de-ativos-e-investimentos-empresas_II.9,41_IIND200146.htm|Mais de US$ 10 bilhões    |https://www.glassdoor.com.br/Vis%C3%A3o-geral/Trabalhar-na-Apex-Group-EI_IE764729.13,23.htm                     |3.2  |2.9              |3.5                   |3.0              |2.9           |2.7                     |3.2                      |52.0                             |53.0                              |655522  |        |APE POUPEX                                       |70           |\n",
      "|Banco Alfa                     |175          |74           |271           |105           |http://www.alfanet.com.br                          |São Paulo, Brasil    |1925.0          |/Explorar/melhores-serviços-bancários-e-de-crédito-empresas_II.9,40_IIND200048.htm |Desconhecida/não se aplica|https://www.glassdoor.com.br/Vis%C3%A3o-geral/Trabalhar-na-Banco-Alfa-EI_IE817306.13,23.htm                     |3.5  |3.2              |3.2                   |3.1              |2.8           |3.8                     |2.7                      |68.0                             |47.0                              |58160789|        |SAFRA                                            |67           |\n",
      "|China Construction Bank        |871          |194          |720           |240           |http://www.ccb.com                                 |Pequim, China        |null            |/Explorar/melhores-serviços-bancários-e-de-crédito-empresas_II.9,40_IIND200048.htm |Mais de US$ 10 bilhões    |https://www.glassdoor.com.br/Vis%C3%A3o-geral/Trabalhar-na-China-Construction-Bank-EI_IE12617.13,36.htm         |3.4  |3.0              |3.0                   |3.4              |2.9           |3.5                     |2.8                      |54.0                             |42.0                              |7450604 |        |CHINA CONSTRUCTION BANK (BRASIL) BANCO MULTIPLO S|77           |\n",
      "|Mercedes-Benz Mobility         |282          |90           |513           |118           |https://www.mercedes-benz-mobility.com/de/karriere/|Estugarda, Alemanha  |1990.0          |/Explorar/melhores-serviços-bancários-e-de-crédito-empresas_II.9,40_IIND200048.htm |Mais de US$ 10 bilhões    |https://www.glassdoor.com.br/Vis%C3%A3o-geral/Trabalhar-na-Mercedes-Benz-Mobility-EI_IE38563.13,35.htm          |4.1  |4.1              |4.0                   |4.4              |3.7           |4.0                     |3.6                      |87.0                             |51.0                              |60814191|        |MERCEDESBENZ                                     |73           |\n",
      "|Sumitomo Mitsui Financial Group|903          |246          |1300          |290           |http://www.smfg.co.jp                              |Tóquio, Japão        |1996.0          |/Explorar/melhores-gestão-de-ativos-e-investimentos-empresas_II.9,41_IIND200146.htm|Mais de US$ 10 bilhões    |https://www.glassdoor.com.br/Vis%C3%A3o-geral/Trabalhar-na-Sumitomo-Mitsui-Financial-Group-EI_IE256138.13,44.htm|3.4  |3.2              |3.3                   |3.4              |3.1           |3.3                     |3.1                      |56.0                             |53.0                              |60518222|        |BANCO SUMITOMO MITSUI BRASIL SA                  |65           |\n",
      "+-------------------------------+-------------+-------------+--------------+--------------+---------------------------------------------------+---------------------+----------------+-----------------------------------------------------------------------------------+--------------------------+----------------------------------------------------------------------------------------------------------------+-----+-----------------+----------------------+-----------------+--------------+------------------------+-------------------------+---------------------------------+----------------------------------+--------+--------+-------------------------------------------------+-------------+\n",
      "Number of rows x columns - Employee Data: 39 x 24\n"
     ]
    }
   ],
   "source": [
    "# Lendo separado devido a estrutura diferente\n",
    "employee_df_1 = spark.read.format(\"csv\").option(\"header\", \"true\").option('delimiter','|').load(\"../data/bronze/employees/glassdoor_consolidado_join_match_less_v2.csv\")\n",
    "employee_df_2 = spark.read.format(\"csv\").option(\"header\", \"true\").option('delimiter','|').load(\"../data/bronze/employees/glassdoor_consolidado_join_match_v2.csv\")\n",
    "\n",
    "# Criando colunas\n",
    "employee_df_1 = employee_df_1.withColumn('Segmento', lit(''))\n",
    "employee_df_2 = employee_df_2.withColumn('CNPJ', lit(''))\n",
    "\n",
    "# Ordenando as colunas\n",
    "columns = [\"employer_name\", \"reviews_count\", \"culture_count\", \"salaries_count\", \"benefits_count\", \"employer-website\", \"employer-headquarters\", \"employer-founded\", \"employer-industry\", \"employer-revenue\", \"url\", \"Geral\", \"Cultura e valores\", \"Diversidade e inclusão\", \"Qualidade de vida\", \"Alta liderança\", \"Remuneração e benefícios\", \"Oportunidades de carreira\", \"Recomendam para outras pessoas(%)\", \"Perspectiva positiva da empresa(%)\", \"CNPJ\", \"Segmento\", \"Nome\", \"match_percent\"]\n",
    "\n",
    "employee_df_1 = employee_df_1.select(columns)\n",
    "employee_df_2 = employee_df_2.select(columns)\n",
    "\n",
    "# unindo os dados\n",
    "employee_df = employee_df_1.union(employee_df_2)\n",
    "\n",
    "# Data Transformation for employee dataset\n",
    "for column in employee_df.columns:\n",
    "    employee_df = employee_df.withColumnRenamed(\n",
    "        column, \n",
    "        column.replace(\"-\",\"_\").replace(\" \",\"_\").lower()\n",
    "    )\n",
    "\n",
    "employee_df.show(truncate=False)\n",
    "employee_df.cache()\n",
    "\n",
    "for replacement_action in [\n",
    "    (\"nome\", \"- PRUDENCIAL\", \"\"),\n",
    "    (\"nome\",\"(\\.+|\\/+|\\-+)\", \"\"),\n",
    "]:\n",
    "    employee_df = employee_df.withColumn(\n",
    "        \"nome\", regexp_replace(\n",
    "            replacement_action[0],\n",
    "            replacement_action[1],\n",
    "            replacement_action[2]\n",
    "        )\n",
    "    )\n",
    "\n",
    "print(employee_df.count())\n",
    "# employee_df = employee_df.na.drop()\n",
    "# employee_df = employee_df.dropDuplicates()\n",
    "employee_df.show(5, truncate=False)\n",
    "print(f\"Number of rows x columns - Employee Data: {employee_df.count()} x {len(employee_df.columns)}\")\n",
    "employee_df.write.mode(\"overwrite\").csv(\"../data/silver/employee\", header=True, sep=\";\")"
   ]
  },
  {
   "cell_type": "code",
   "execution_count": 208,
   "outputs": [
    {
     "name": "stdout",
     "output_type": "stream",
     "text": [
      "+----+---------+------------------------------------------------------+----------------+--------+---------------------------------------------------------------+------+-----------------------------------------------+--------------------------------------------+---------------------------------------+-------------------------------+----------------------------------------+----------------------------+----------------------------+\n",
      "|ano |trimestre|categoria                                             |tipo            |cnpj    |nome                                                           |índice|quantidade_de_reclamações_reguladas_procedentes|quantidade_de_reclamações_reguladas___outras|quantidade_de_reclamações_não_reguladas|quantidade_total_de_reclamações|quantidade_total_de_clientes_–_ccs_e_scr|quantidade_de_clientes_–_ccs|quantidade_de_clientes_–_scr|\n",
      "+----+---------+------------------------------------------------------+----------------+--------+---------------------------------------------------------------+------+-----------------------------------------------+--------------------------------------------+---------------------------------------+-------------------------------+----------------------------------------+----------------------------+----------------------------+\n",
      "|2022|3º       |Demais Bancos, Financeiras e Instituições de Pagamento|Conglomerado    |null    |ABCBRASIL                                                      |null  |4                                              |7                                           |3                                      |14                             |50720                                   |47485                       |6932                        |\n",
      "|2022|3º       |Demais Bancos, Financeiras e Instituições de Pagamento|Conglomerado    |null    |ABN AMRO                                                       |null  |0                                              |0                                           |1                                      |1                              |0                                       |0                           |null                        |\n",
      "|2022|3º       |Demais Bancos, Financeiras e Instituições de Pagamento|Banco/financeira|13140088|ACESSO SOLUÇÕES DE PAGAMENTO SA                                |14,7  |75                                             |128                                         |9                                      |212                            |5098671                                 |5098661                     |19396                       |\n",
      "|2022|3º       |Demais Bancos, Financeiras e Instituições de Pagamento|Conglomerado    |null    |AGIBANK                                                        |96    |182                                            |262                                         |95                                     |539                            |1895683                                 |1540134                     |1176067                     |\n",
      "|2022|3º       |Demais Bancos, Financeiras e Instituições de Pagamento|Banco/financeira|36321990|AGORACRED SA SOCIEDADE DE CRÉDITO, FINANCIAMENTO E INVESTIMENTO|null  |4                                              |4                                           |2                                      |10                             |534795                                  |133                         |534662                      |\n",
      "+----+---------+------------------------------------------------------+----------------+--------+---------------------------------------------------------------+------+-----------------------------------------------+--------------------------------------------+---------------------------------------+-------------------------------+----------------------------------------+----------------------------+----------------------------+\n",
      "only showing top 5 rows\n",
      "\n",
      "Number of rows x columns - Employee Data: 39 x 24\n"
     ]
    }
   ],
   "source": [
    "#Claims\n",
    "claims_df = spark.read.format(\"csv\").option(\"header\", \"true\").option('delimiter',',').load(\"../data/bronze/claims\")\n",
    "\n",
    "#print(claims_df.count()) == 918\n",
    "\n",
    "# Data Transformation for employee dataset\n",
    "for column in claims_df.columns:\n",
    "    claims_df = claims_df.withColumnRenamed(\n",
    "        column, \n",
    "        column.replace(\"-\",\"_\").replace(\" \",\"_\").lower()\n",
    "    )\n",
    "\n",
    "claims_df = claims_df.withColumnRenamed('cnpj_if', 'cnpj')\\\n",
    "    .withColumnRenamed('instituição_financeira', 'nome')\n",
    "\n",
    "for replacement_action in [\n",
    "    (\"nome\", \"- PRUDENCIAL\", \"\"),\n",
    "    (\"nome\",\"(\\.+|\\/+|\\-+)\", \"\"),\n",
    "    (\"nome\",\" \\(conglomerado\\)\", \"\"),\n",
    "]:\n",
    "    claims_df = claims_df.withColumn(\n",
    "        \"nome\", regexp_replace(\n",
    "            replacement_action[0],\n",
    "            replacement_action[1],\n",
    "            replacement_action[2]\n",
    "        )\n",
    "    )\n",
    "\n",
    "# claims_df = claims_df.na.drop()\n",
    "# claims_df = claims_df.dropDuplicates()\n",
    "claims_df.show(5, truncate=False)\n",
    "print(f\"Number of rows x columns - Employee Data: {employee_df.count()} x {len(employee_df.columns)}\")\n",
    "claims_df.write.mode(\"overwrite\").csv(\"../data/silver/claims\", header=True, sep=\";\")"
   ],
   "metadata": {
    "collapsed": false,
    "ExecuteTime": {
     "end_time": "2023-08-24T01:35:28.259479252Z",
     "start_time": "2023-08-24T01:35:27.737140934Z"
    }
   }
  },
  {
   "cell_type": "code",
   "execution_count": 209,
   "outputs": [],
   "source": [
    "# reading data for joining\n",
    "claims_df = spark.read.format(\"csv\").option(\"header\", \"true\").option('delimiter',';').load(\"../data/silver/claims\")\n",
    "employee_df = spark.read.format(\"csv\").option(\"header\", \"true\").option('delimiter',';').load(\"../data/silver/employee\")\n",
    "employee_df = employee_df.drop('cnpj','segmento')\n",
    "banks_df = spark.read.format(\"csv\").option(\"header\", \"true\").option('delimiter',';').load(\"../data/silver/banks\")\n"
   ],
   "metadata": {
    "collapsed": false,
    "ExecuteTime": {
     "end_time": "2023-08-24T01:35:29.445345626Z",
     "start_time": "2023-08-24T01:35:29.111052679Z"
    }
   }
  },
  {
   "cell_type": "code",
   "execution_count": 210,
   "outputs": [
    {
     "name": "stdout",
     "output_type": "stream",
     "text": [
      "+----+---------+--------------------------------------------------------+----------------+--------+---------------------------------------------------------------+------+-----------------------------------------------+--------------------------------------------+---------------------------------------+-------------------------------+----------------------------------------+----------------------------+----------------------------+\n",
      "|ano |trimestre|categoria                                               |tipo            |cnpj    |nome                                                           |índice|quantidade_de_reclamações_reguladas_procedentes|quantidade_de_reclamações_reguladas___outras|quantidade_de_reclamações_não_reguladas|quantidade_total_de_reclamações|quantidade_total_de_clientes_–_ccs_e_scr|quantidade_de_clientes_–_ccs|quantidade_de_clientes_–_scr|\n",
      "+----+---------+--------------------------------------------------------+----------------+--------+---------------------------------------------------------------+------+-----------------------------------------------+--------------------------------------------+---------------------------------------+-------------------------------+----------------------------------------+----------------------------+----------------------------+\n",
      "|2022|3º       |Demais Bancos, Financeiras e Instituições de Pagamento  |Conglomerado    |null    |ABCBRASIL                                                      |null  |4                                              |7                                           |3                                      |14                             |50720                                   |47485                       |6932                        |\n",
      "|2022|3º       |Demais Bancos, Financeiras e Instituições de Pagamento  |Conglomerado    |null    |ABN AMRO                                                       |null  |0                                              |0                                           |1                                      |1                              |0                                       |0                           |null                        |\n",
      "|2022|3º       |Demais Bancos, Financeiras e Instituições de Pagamento  |Banco/financeira|13140088|ACESSO SOLUÇÕES DE PAGAMENTO SA                                |14,7  |75                                             |128                                         |9                                      |212                            |5098671                                 |5098661                     |19396                       |\n",
      "|2022|3º       |Demais Bancos, Financeiras e Instituições de Pagamento  |Conglomerado    |null    |AGIBANK                                                        |96    |182                                            |262                                         |95                                     |539                            |1895683                                 |1540134                     |1176067                     |\n",
      "|2022|3º       |Demais Bancos, Financeiras e Instituições de Pagamento  |Banco/financeira|36321990|AGORACRED SA SOCIEDADE DE CRÉDITO, FINANCIAMENTO E INVESTIMENTO|null  |4                                              |4                                           |2                                      |10                             |534795                                  |133                         |534662                      |\n",
      "|2022|3º       |Demais Bancos, Financeiras e Instituições de Pagamento  |Banco/financeira|27214112|AL5 SA CRÉDITO, FINANCIAMENTO E INVESTIMENTO                   |null  |10                                             |3                                           |2                                      |15                             |30959                                   |19706                       |16841                       |\n",
      "|2022|3º       |Demais Bancos, Financeiras e Instituições de Pagamento  |Conglomerado    |null    |ALFA                                                           |null  |23                                             |48                                          |9                                      |80                             |436746                                  |267423                      |170417                      |\n",
      "|2022|3º       |Demais Bancos, Financeiras e Instituições de Pagamento  |Banco/financeira|32778350|AME DIGITAL BRASIL INSTITUICAO DE PAGAMENTO LTDA               |null  |6                                              |31                                          |90                                     |127                            |0                                       |0                           |0                           |\n",
      "|2022|3º       |Demais Bancos, Financeiras e Instituições de Pagamento  |Conglomerado    |null    |ANDBANK                                                        |null  |0                                              |2                                           |2                                      |4                              |4302                                    |4302                        |29                          |\n",
      "|2022|3º       |Demais Bancos, Financeiras e Instituições de Pagamento  |Banco/financeira|19540550|ASAAS GESTÃO FINANCEIRA INSTITUIÇÃO DE PAGAMENTO SA            |null  |8                                              |42                                          |5                                      |55                             |404447                                  |404447                      |null                        |\n",
      "|2022|3º       |Demais Bancos, Financeiras e Instituições de Pagamento  |Banco/financeira|54403563|BANCO ARBI SA                                                  |null  |14                                             |8                                           |0                                      |22                             |84526                                   |75882                       |10846                       |\n",
      "|2022|3º       |Demais Bancos, Financeiras e Instituições de Pagamento  |Banco/financeira|997185  |BANCO B3 SA                                                    |null  |0                                              |1                                           |1                                      |2                              |896                                     |896                         |null                        |\n",
      "|2022|3º       |Demais Bancos, Financeiras e Instituições de Pagamento  |Banco/financeira|2658435 |BANCO CATERPILLAR SA                                           |null  |1                                              |0                                           |0                                      |1                              |3325                                    |null                        |3325                        |\n",
      "|2022|3º       |Demais Bancos, Financeiras e Instituições de Pagamento  |Banco/financeira|33132044|BANCO CEDULA SA                                                |null  |0                                              |1                                           |1                                      |2                              |18010                                   |2805                        |15425                       |\n",
      "|2022|3º       |Demais Bancos, Financeiras e Instituições de Pagamento  |Banco/financeira|2992446 |BANCO CNH INDUSTRIAL CAPITAL SA                                |null  |0                                              |2                                           |2                                      |4                              |28887                                   |1290                        |27778                       |\n",
      "|2022|3º       |Demais Bancos, Financeiras e Instituições de Pagamento  |Banco/financeira|8357240 |BANCO CSF SA                                                   |9,98  |77                                             |72                                          |43                                     |192                            |7707988                                 |null                        |7707988                     |\n",
      "|2022|3º       |Demais Bancos, Financeiras e Instituições de Pagamento  |Banco/financeira|4902979 |BANCO DA AMAZONIA SA                                           |null  |6                                              |7                                           |10                                     |23                             |507169                                  |507169                      |null                        |\n",
      "|2022|3º       |Demais Bancos, Financeiras e Instituições de Pagamento  |Banco/financeira|33042151|BANCO DE LA NACION ARGENTINA                                   |null  |0                                              |2                                           |0                                      |2                              |267                                     |255                         |22                          |\n",
      "|2022|3º       |Demais Bancos, Financeiras e Instituições de Pagamento  |Banco/financeira|5040481 |BANCO DE LAGE LANDEN BRASIL SA                                 |null  |0                                              |0                                           |1                                      |1                              |35292                                   |4                           |35289                       |\n",
      "|2022|3º       |Demais Bancos, Financeiras e Instituições de Pagamento  |Banco/financeira|92874270|BANCO DIGIMAIS SA                                              |424,8 |132                                            |31                                          |33                                     |196                            |310734                                  |142304                      |203761                      |\n",
      "|2022|3º       |Demais Bancos, Financeiras e Instituições de Pagamento  |Banco/financeira|13009717|BANCO DO ESTADO DE SERGIPE SA                                  |164,66|139                                            |44                                          |33                                     |216                            |844129                                  |844129                      |null                        |\n",
      "|2022|3º       |Demais Bancos, Financeiras e Instituições de Pagamento  |Banco/financeira|4913711 |BANCO DO ESTADO DO PARÁ SA                                     |56,38 |56                                             |28                                          |23                                     |107                            |993127                                  |869557                      |435700                      |\n",
      "|2022|3º       |Demais Bancos, Financeiras e Instituições de Pagamento  |Banco/financeira|7237373 |BANCO DO NORDESTE DO BRASIL SA                                 |null  |9                                              |41                                          |48                                     |98                             |9294372                                 |8720080                     |3310284                     |\n",
      "|2022|3º       |Demais Bancos, Financeiras e Instituições de Pagamento  |Banco/financeira|33644196|BANCO FATOR SA                                                 |null  |1                                              |0                                           |0                                      |1                              |13172                                   |13168                       |13                          |\n",
      "|2022|3º       |Demais Bancos, Financeiras e Instituições de Pagamento  |Banco/financeira|58616418|BANCO FIBRA SA                                                 |null  |0                                              |1                                           |0                                      |1                              |163544                                  |4432                        |159809                      |\n",
      "|2022|3º       |Demais Bancos, Financeiras e Instituições de Pagamento  |Banco/financeira|53518684|BANCO HSBC SA                                                  |null  |0                                              |4                                           |8                                      |12                             |3858                                    |3843                        |82                          |\n",
      "|2022|3º       |Demais Bancos, Financeiras e Instituições de Pagamento  |Banco/financeira|4866275 |BANCO INBURSA SA                                               |null  |10                                             |10                                          |5                                      |25                             |27585                                   |10                          |27575                       |\n",
      "|2022|3º       |Demais Bancos, Financeiras e Instituições de Pagamento  |Banco/financeira|91884981|BANCO JOHN DEERE SA                                            |null  |0                                              |1                                           |0                                      |1                              |13559                                   |254                         |13367                       |\n",
      "|2022|3º       |Demais Bancos, Financeiras e Instituições de Pagamento  |Banco/financeira|61088183|BANCO MIZUHO DO BRASIL SA                                      |null  |1                                              |2                                           |0                                      |3                              |1249                                    |1226                        |63                          |\n",
      "|2022|3º       |Demais Bancos, Financeiras e Instituições de Pagamento  |Banco/financeira|78632767|BANCO OURINVEST SA                                             |null  |6                                              |14                                          |1                                      |21                             |257799                                  |253773                      |4082                        |\n",
      "|2022|3º       |Demais Bancos, Financeiras e Instituições de Pagamento  |Banco/financeira|61820817|BANCO PAULISTA SA                                              |null  |13                                             |4                                           |0                                      |17                             |57603                                   |8406                        |49516                       |\n",
      "|2022|3º       |Demais Bancos, Financeiras e Instituições de Pagamento  |Banco/financeira|1023570 |BANCO RABOBANK INTERNATIONAL BRASIL SA                         |null  |0                                              |1                                           |0                                      |1                              |3872                                    |3691                        |1699                        |\n",
      "|2022|3º       |Demais Bancos, Financeiras e Instituições de Pagamento  |Banco/financeira|517645  |BANCO RIBEIRAO PRETO SA                                        |null  |2                                              |0                                           |0                                      |2                              |4456                                    |4290                        |1784                        |\n",
      "|2022|3º       |Demais Bancos, Financeiras e Instituições de Pagamento  |Banco/financeira|80271455|BANCO RNX SA                                                   |null  |0                                              |1                                           |0                                      |1                              |2452                                    |60                          |2407                        |\n",
      "|2022|3º       |Demais Bancos, Financeiras e Instituições de Pagamento  |Banco/financeira|795423  |BANCO SEMEAR SA                                                |null  |4                                              |14                                          |2                                      |20                             |315587                                  |6155                        |310457                      |\n",
      "|2022|3º       |Demais Bancos, Financeiras e Instituições de Pagamento  |Conglomerado    |null    |BANCO SICOOB                                                   |17,47 |102                                            |93                                          |30                                     |225                            |5835765                                 |2633199                     |3887697                     |\n",
      "|2022|3º       |Demais Bancos, Financeiras e Instituições de Pagamento  |Banco/financeira|7679404 |BANCO TOPÁZIO SA                                               |null  |7                                              |14                                          |2                                      |23                             |12749                                   |11617                       |2803                        |\n",
      "|2022|3º       |Demais Bancos, Financeiras e Instituições de Pagamento  |Conglomerado    |null    |BANCO TOYOTA DO BRASIL SA                                      |null  |4                                              |6                                           |18                                     |28                             |154520                                  |15261                       |140131                      |\n",
      "|2022|3º       |Demais Bancos, Financeiras e Instituições de Pagamento  |Banco/financeira|17351180|BANCO TRIANGULO SA                                             |null  |8                                              |24                                          |10                                     |42                             |1740049                                 |679997                      |1431577                     |\n",
      "|2022|3º       |Demais Bancos, Financeiras e Instituições de Pagamento  |Conglomerado    |null    |BANESTES                                                       |25,51 |36                                             |44                                          |13                                     |93                             |1410675                                 |1360265                     |483399                      |\n",
      "|2022|3º       |Demais Bancos, Financeiras e Instituições de Pagamento  |Conglomerado    |null    |BANRISUL                                                       |7,31  |38                                             |190                                         |68                                     |296                            |5198088                                 |3716170                     |4072650                     |\n",
      "|2022|3º       |Demais Bancos, Financeiras e Instituições de Pagamento  |Conglomerado    |null    |BARIGUI                                                        |null  |20                                             |66                                          |19                                     |105                            |349049                                  |316165                      |64436                       |\n",
      "|2022|3º       |Top 15 - Bancos, Financeiras e Instituições de Pagamento|Conglomerado    |null    |BB                                                             |12,64 |930                                            |2217                                        |1162                                   |4309                           |73557524                                |66988564                    |35361914                    |\n",
      "|2022|3º       |Demais Bancos, Financeiras e Instituições de Pagamento  |Conglomerado    |null    |BBC                                                            |null  |3                                              |4                                           |2                                      |9                              |5872                                    |null                        |5872                        |\n",
      "|2022|3º       |Demais Bancos, Financeiras e Instituições de Pagamento  |Banco/financeira|11285104|BIORC FINANCEIRA  CRÉDITO, FINANCIAMENTO E INVESTIMENTO SA     |null  |0                                              |1                                           |0                                      |1                              |17785                                   |254                         |17531                       |\n",
      "|2022|3º       |Top 15 - Bancos, Financeiras e Instituições de Pagamento|Conglomerado    |null    |BMG                                                            |46,87 |542                                            |844                                         |154                                    |1540                           |11561565                                |7399043                     |6467199                     |\n",
      "|2022|3º       |Demais Bancos, Financeiras e Instituições de Pagamento  |Conglomerado    |null    |BMW                                                            |null  |0                                              |1                                           |3                                      |4                              |31181                                   |29742                       |22022                       |\n",
      "|2022|3º       |Demais Bancos, Financeiras e Instituições de Pagamento  |Conglomerado    |null    |BNP PARIBAS                                                    |42,48 |87                                             |279                                         |74                                     |440                            |2047673                                 |11438                       |2036674                     |\n",
      "|2022|3º       |Demais Bancos, Financeiras e Instituições de Pagamento  |Conglomerado    |null    |BNQI  FINANCEIRO                                               |null  |29                                             |37                                          |7                                      |73                             |null                                    |null                        |null                        |\n",
      "|2022|3º       |Top 15 - Bancos, Financeiras e Instituições de Pagamento|Conglomerado    |null    |BRADESCO                                                       |25,18 |2564                                           |4393                                        |1765                                   |8722                           |101788328                               |95939623                    |39991382                    |\n",
      "|2022|3º       |Demais Bancos, Financeiras e Instituições de Pagamento  |Conglomerado    |null    |BRB                                                            |46,81 |269                                            |297                                         |144                                    |710                            |5745833                                 |4110808                     |2879389                     |\n",
      "|2022|3º       |Demais Bancos, Financeiras e Instituições de Pagamento  |Banco/financeira|12865507|BRK SA CRÉDITO, FINANCIAMENTO E INVESTIMENTO                   |null  |0                                              |1                                           |0                                      |1                              |23238                                   |18388                       |20990                       |\n",
      "|2022|3º       |Top 15 - Bancos, Financeiras e Instituições de Pagamento|Conglomerado    |null    |BTG PACTUALBANCO PAN                                           |76,14 |1559                                           |1003                                        |513                                    |3075                           |20473165                                |15651421                    |8783911                     |\n",
      "|2022|3º       |Top 15 - Bancos, Financeiras e Instituições de Pagamento|Conglomerado    |null    |C6 BANK                                                        |50,18 |1070                                           |1741                                        |519                                    |3330                           |21320772                                |19080023                    |6995013                     |\n",
      "|2022|3º       |Top 15 - Bancos, Financeiras e Instituições de Pagamento|Conglomerado    |null    |CAIXA ECONÔMICA FEDERAL                                        |17,19 |2550                                           |3067                                        |2729                                   |8346                           |148308904                               |146717181                   |29403700                    |\n",
      "|2022|3º       |Demais Bancos, Financeiras e Instituições de Pagamento  |Conglomerado    |null    |CAIXA GERAL                                                    |null  |2                                              |2                                           |1                                      |5                              |982                                     |959                         |57                          |\n",
      "|2022|3º       |Demais Bancos, Financeiras e Instituições de Pagamento  |Banco/financeira|37122487|CALCRED SA  CRÉDITO, FINANCIAMENTO E INVESTIMENTO              |null  |3                                              |4                                           |1                                      |8                              |163794                                  |null                        |163794                      |\n",
      "|2022|3º       |Demais Bancos, Financeiras e Instituições de Pagamento  |Banco/financeira|9313766 |CARUANA SA  SOCIEDADE DE CRÉDITO, FINANCIAMENTO E INVESTIMENTO |null  |6                                              |4                                           |2                                      |12                             |58790                                   |53422                       |14080                       |\n",
      "|2022|3º       |Demais Bancos, Financeiras e Instituições de Pagamento  |Conglomerado    |null    |CCB                                                            |null  |4                                              |68                                          |11                                     |83                             |160508                                  |3521                        |157408                      |\n",
      "|2022|3º       |Demais Bancos, Financeiras e Instituições de Pagamento  |Banco/financeira|13935893|CELCOIN INSTITUICAO DE PAGAMENTO SA                            |null  |5                                              |16                                          |2                                      |23                             |0                                       |0                           |0                           |\n",
      "|2022|3º       |Demais Bancos, Financeiras e Instituições de Pagamento  |Banco/financeira|26225776|CENTROCRED SA CRÉDITO, FINANCIAMENTO E INVESTIMENTOS           |null  |1                                              |0                                           |0                                      |1                              |110863                                  |72                          |110791                      |\n",
      "|2022|3º       |Demais Bancos, Financeiras e Instituições de Pagamento  |Banco/financeira|1027058 |CIELO SA  INSTITUIÇÃO DE PAGAMENTO                             |null  |21                                             |34                                          |32                                     |87                             |194142                                  |194030                      |112                         |\n",
      "|2022|3º       |Demais Bancos, Financeiras e Instituições de Pagamento  |Conglomerado    |null    |CITIBANK                                                       |null  |4                                              |14                                          |7                                      |25                             |18558                                   |17710                       |1759                        |\n",
      "|2022|3º       |Demais Bancos, Financeiras e Instituições de Pagamento  |Conglomerado    |null    |COBUCCIO                                                       |null  |10                                             |15                                          |22                                     |47                             |null                                    |null                        |null                        |\n",
      "|2022|3º       |Demais Bancos, Financeiras e Instituições de Pagamento  |Conglomerado    |null    |COLOMBO                                                        |null  |1                                              |5                                           |3                                      |9                              |322307                                  |60                          |322265                      |\n",
      "|2022|3º       |Demais Bancos, Financeiras e Instituições de Pagamento  |Banco/financeira|5938780 |COOPER CARD INSTITUIÇÃO DE PAGAMENTO LTDA                      |null  |0                                              |1                                           |1                                      |2                              |378360                                  |120371                      |280195                      |\n",
      "|2022|3º       |Demais Bancos, Financeiras e Instituições de Pagamento  |Banco/financeira|62895230|CREDISHOP SA  INSTITUIÇÃO DE PAGAMENTO                         |null  |0                                              |2                                           |0                                      |2                              |701423                                  |null                        |701423                      |\n",
      "|2022|3º       |Demais Bancos, Financeiras e Instituições de Pagamento  |Conglomerado    |null    |CREDIT SUISSE                                                  |null  |0                                              |2                                           |2                                      |4                              |5997                                    |5993                        |384                         |\n",
      "|2022|3º       |Demais Bancos, Financeiras e Instituições de Pagamento  |Conglomerado    |null    |CREDSYSTEM                                                     |null  |18                                             |52                                          |25                                     |95                             |null                                    |null                        |null                        |\n",
      "|2022|3º       |Demais Bancos, Financeiras e Instituições de Pagamento  |Conglomerado    |null    |CREFISA                                                        |22,94 |75                                             |135                                         |61                                     |271                            |3268995                                 |1890679                     |1776220                     |\n",
      "|2022|3º       |Demais Bancos, Financeiras e Instituições de Pagamento  |Conglomerado    |null    |DAYCOVAL                                                       |110,61|173                                            |447                                         |60                                     |680                            |1564046                                 |237353                      |1377871                     |\n",
      "|2022|3º       |Demais Bancos, Financeiras e Instituições de Pagamento  |Banco/financeira|13370835|DOCK INSTITUIÇÃO DE PAGAMENTO SA                               |null  |23                                             |26                                          |8                                      |57                             |1997904                                 |1997904                     |null                        |\n",
      "|2022|3º       |Demais Bancos, Financeiras e Instituições de Pagamento  |Banco/financeira|21018182|EBANX INSTITUICAO DE PAGAMENTOS LTDA                           |70,09 |39                                             |60                                          |15                                     |114                            |556387                                  |556385                      |2                           |\n",
      "|2022|3º       |Demais Bancos, Financeiras e Instituições de Pagamento  |Banco/financeira|714671  |EWALLY INSTITUIÇÃO DE PAGAMENTO SA                             |null  |4                                              |0                                           |5                                      |9                              |0                                       |0                           |0                           |\n",
      "|2022|3º       |Demais Bancos, Financeiras e Instituições de Pagamento  |Banco/financeira|39321657|FACEBOOK INSTITUIÇÃO DE PAGAMENTO DO BRASIL LTDA               |null  |1                                              |2                                           |3                                      |6                              |0                                       |0                           |0                           |\n",
      "|2022|3º       |Demais Bancos, Financeiras e Instituições de Pagamento  |Banco/financeira|15581638|FACTA FINANCEIRA SA  CRÉDITO FINANCIAMENTO E INVESTIMENTO      |113,04|79                                             |169                                         |14                                     |262                            |698817                                  |686                         |698139                      |\n",
      "|2022|3º       |Demais Bancos, Financeiras e Instituições de Pagamento  |Banco/financeira|36583700|FC FINANCEIRA SA  CRÉDITO, FINANCIAMENTO E INVESTIMENTO        |null  |1                                              |6                                           |7                                      |14                             |25394                                   |null                        |25394                       |\n",
      "|2022|3º       |Demais Bancos, Financeiras e Instituições de Pagamento  |Banco/financeira|411939  |FINAMAX SA  CREDITO, FINANCIAMENTO E INVESTIMENTO              |null  |1                                              |4                                           |4                                      |9                              |84947                                   |1591                        |83394                       |\n",
      "|2022|3º       |Demais Bancos, Financeiras e Instituições de Pagamento  |Banco/financeira|13203354|FITBANK PAGAMENTOS ELETRONICOS SA                              |null  |5                                              |0                                           |3                                      |8                              |18359                                   |18359                       |null                        |\n",
      "|2022|3º       |Demais Bancos, Financeiras e Instituições de Pagamento  |Banco/financeira|23114447|FLAGSHIP INSTITUICAO DE PAGAMENTOS LTDA                        |null  |7                                              |8                                           |0                                      |15                             |0                                       |0                           |0                           |\n",
      "|2022|3º       |Demais Bancos, Financeiras e Instituições de Pagamento  |Banco/financeira|2732968 |FORTBRASIL INSTITUIÇÃO DE PAGAMENTO SA                         |null  |7                                              |9                                           |7                                      |23                             |697417                                  |null                        |697417                      |\n",
      "|2022|3º       |Demais Bancos, Financeiras e Instituições de Pagamento  |Conglomerado    |null    |GAZIN                                                          |null  |0                                              |1                                           |1                                      |2                              |49647                                   |352                         |49357                       |\n",
      "|2022|3º       |Demais Bancos, Financeiras e Instituições de Pagamento  |Conglomerado    |null    |GENIAL                                                         |null  |9                                              |10                                          |1                                      |20                             |657765                                  |657761                      |406                         |\n",
      "|2022|3º       |Demais Bancos, Financeiras e Instituições de Pagamento  |Conglomerado    |null    |GERENCIANET                                                    |null  |13                                             |37                                          |9                                      |59                             |334816                                  |334644                      |15120                       |\n",
      "|2022|3º       |Demais Bancos, Financeiras e Instituições de Pagamento  |Conglomerado    |null    |GM                                                             |null  |4                                              |13                                          |13                                     |30                             |227309                                  |474                         |226918                      |\n",
      "|2022|3º       |Demais Bancos, Financeiras e Instituições de Pagamento  |Banco/financeira|22177858|GRANITO INSTITUIÇÃO DE PAGAMENTO SA                            |null  |4                                              |4                                           |4                                      |12                             |0                                       |0                           |0                           |\n",
      "|2022|3º       |Demais Bancos, Financeiras e Instituições de Pagamento  |Conglomerado    |null    |GRUPO BONSUCESSO  BS2                                          |323,09|111                                            |186                                         |37                                     |334                            |343552                                  |336575                      |11875                       |\n",
      "|2022|3º       |Demais Bancos, Financeiras e Instituições de Pagamento  |Conglomerado    |null    |GRUPO ZEMA                                                     |null  |1                                              |14                                          |11                                     |26                             |505005                                  |18246                       |490852                      |\n",
      "|2022|3º       |Demais Bancos, Financeiras e Instituições de Pagamento  |Conglomerado    |null    |HERVAL  HS                                                     |null  |5                                              |7                                           |3                                      |15                             |211524                                  |801                         |210925                      |\n",
      "|2022|3º       |Demais Bancos, Financeiras e Instituições de Pagamento  |Conglomerado    |null    |HONDA                                                          |null  |9                                              |18                                          |8                                      |35                             |385212                                  |142                         |385159                      |\n",
      "|2022|3º       |Demais Bancos, Financeiras e Instituições de Pagamento  |Banco/financeira|13884775|HUB INSTITUIÇÃO DE PAGAMENTO SA                                |null  |26                                             |73                                          |5                                      |104                            |9935547                                 |9935547                     |49                          |\n",
      "|2022|3º       |Demais Bancos, Financeiras e Instituições de Pagamento  |Conglomerado    |null    |INDUSTRIAL DO BRASIL                                           |null  |7                                              |25                                          |1                                      |33                             |69360                                   |4561                        |65597                       |\n",
      "|2022|3º       |Top 15 - Bancos, Financeiras e Instituições de Pagamento|Conglomerado    |null    |INTER                                                          |36,81 |782                                            |935                                         |426                                    |2143                           |21243511                                |21118007                    |3264018                     |\n",
      "|2022|3º       |Top 15 - Bancos, Financeiras e Instituições de Pagamento|Conglomerado    |null    |ITAU                                                           |14,4  |1375                                           |3171                                        |1312                                   |5858                           |95481328                                |76800409                    |55246772                    |\n",
      "|2022|3º       |Demais Bancos, Financeiras e Instituições de Pagamento  |Banco/financeira|15111975|IUGU INSTITUIÇÃO DE PAGAMENTO SA                               |null  |10                                             |4                                           |1                                      |15                             |2010                                    |null                        |2010                        |\n",
      "|2022|3º       |Demais Bancos, Financeiras e Instituições de Pagamento  |Banco/financeira|4230630 |JBCRED SA SOCIEDADE DE CREDITO, FINANCIAMENTO E INVESTIMENTO   |null  |1                                              |8                                           |7                                      |16                             |60558                                   |null                        |60558                       |\n",
      "|2022|3º       |Demais Bancos, Financeiras e Instituições de Pagamento  |Conglomerado    |null    |JP MORGAN CHASE                                                |null  |0                                              |2                                           |2                                      |4                              |3672                                    |3649                        |109                         |\n",
      "|2022|3º       |Demais Bancos, Financeiras e Instituições de Pagamento  |Banco/financeira|6040559 |KREDILIG SA  CRÉDITO, FINANCIAMENTO E INVESTIMENTO             |null  |1                                              |3                                           |1                                      |5                              |314082                                  |5                           |314080                      |\n",
      "|2022|3º       |Demais Bancos, Financeiras e Instituições de Pagamento  |Banco/financeira|11271860|LEBES FINANCEIRA SA  CRÉDITO, FINANCIAMENTO E INVESTIMENTO     |null  |5                                              |3                                           |5                                      |13                             |304471                                  |5                           |304467                      |\n",
      "|2022|3º       |Demais Bancos, Financeiras e Instituições de Pagamento  |Banco/financeira|7652226 |LECCA CRÉDITO, FINANCIAMENTO E INVESTIMENTO SA                 |null  |4                                              |0                                           |9                                      |13                             |24016                                   |284                         |23732                       |\n",
      "+----+---------+--------------------------------------------------------+----------------+--------+---------------------------------------------------------------+------+-----------------------------------------------+--------------------------------------------+---------------------------------------+-------------------------------+----------------------------------------+----------------------------+----------------------------+\n"
     ]
    }
   ],
   "source": [
    "claims_df.show(100, truncate=False)"
   ],
   "metadata": {
    "collapsed": false,
    "ExecuteTime": {
     "end_time": "2023-08-24T01:35:30.186052300Z",
     "start_time": "2023-08-24T01:35:30.133578236Z"
    }
   }
  },
  {
   "cell_type": "code",
   "execution_count": 211,
   "outputs": [
    {
     "name": "stdout",
     "output_type": "stream",
     "text": [
      "root\n",
      " |-- ano: string (nullable = true)\n",
      " |-- trimestre: string (nullable = true)\n",
      " |-- categoria: string (nullable = true)\n",
      " |-- tipo: string (nullable = true)\n",
      " |-- cnpj: string (nullable = true)\n",
      " |-- nome: string (nullable = true)\n",
      " |-- índice: string (nullable = true)\n",
      " |-- quantidade_de_reclamações_reguladas_procedentes: string (nullable = true)\n",
      " |-- quantidade_de_reclamações_reguladas___outras: string (nullable = true)\n",
      " |-- quantidade_de_reclamações_não_reguladas: string (nullable = true)\n",
      " |-- quantidade_total_de_reclamações: string (nullable = true)\n",
      " |-- quantidade_total_de_clientes_–_ccs_e_scr: string (nullable = true)\n",
      " |-- quantidade_de_clientes_–_ccs: string (nullable = true)\n",
      " |-- quantidade_de_clientes_–_scr: string (nullable = true)\n"
     ]
    }
   ],
   "source": [
    "claims_df.printSchema()"
   ],
   "metadata": {
    "collapsed": false,
    "ExecuteTime": {
     "end_time": "2023-08-24T01:35:31.149102962Z",
     "start_time": "2023-08-24T01:35:31.138462765Z"
    }
   }
  },
  {
   "cell_type": "code",
   "execution_count": 212,
   "outputs": [
    {
     "name": "stdout",
     "output_type": "stream",
     "text": [
      "+----------------------------+-------------+-------------+--------------+--------------+-------------------------------+---------------------------+----------------+-----------------------------------------------------------------------------------+---------------------------+-------------------------------------------------------------------------------------------------------------+-----+-----------------+----------------------+-----------------+--------------+------------------------+-------------------------+---------------------------------+----------------------------------+------------------------------+-------------+\n",
      "|employer_name               |reviews_count|culture_count|salaries_count|benefits_count|employer_website               |employer_headquarters      |employer_founded|employer_industry                                                                  |employer_revenue           |url                                                                                                          |geral|cultura_e_valores|diversidade_e_inclusão|qualidade_de_vida|alta_liderança|remuneração_e_benefícios|oportunidades_de_carreira|recomendam_para_outras_pessoas(%)|perspectiva_positiva_da_empresa(%)|nome                          |match_percent|\n",
      "+----------------------------+-------------+-------------+--------------+--------------+-------------------------------+---------------------------+----------------+-----------------------------------------------------------------------------------+---------------------------+-------------------------------------------------------------------------------------------------------------+-----+-----------------+----------------------+-----------------+--------------+------------------------+-------------------------+---------------------------------+----------------------------------+------------------------------+-------------+\n",
      "|BNP Paribas                 |13000        |4100         |20000         |3600          |http://www.group.bnpparibas    |Paris, França              |2000.0          |/Explorar/melhores-serviços-bancários-e-de-crédito-empresas_II.9,40_IIND200048.htm |Mais de US$ 10 bilhões     |https://www.glassdoor.com.br/Vis%C3%A3o-geral/Trabalhar-na-BNP-Paribas-EI_IE10342.13,24.htm                  |3.8  |3.7              |4.0                   |3.8              |3.4           |3.4                     |3.5                      |77.0                             |63.0                              |BNP PARIBAS                   |100          |\n",
      "|BTG Pactual                 |1600         |683          |2800          |635           |http://www.btgpactual.com      |São Paulo, Brasil          |null            |/Explorar/melhores-gestão-de-ativos-e-investimentos-empresas_II.9,41_IIND200146.htm|Desconhecida/não se aplica |https://www.glassdoor.com.br/Vis%C3%A3o-geral/Trabalhar-na-BTG-Pactual-EI_IE411540.13,24.htm                 |4.0  |3.7              |3.5                   |2.8              |3.7           |4.4                     |4.2                      |78.0                             |73.0                              |BTG PACTUAL                   |100          |\n",
      "|Banco Alfa                  |175          |74           |271           |105           |http://www.alfanet.com.br      |São Paulo, Brasil          |1925.0          |/Explorar/melhores-serviços-bancários-e-de-crédito-empresas_II.9,40_IIND200048.htm |Desconhecida/não se aplica |https://www.glassdoor.com.br/Vis%C3%A3o-geral/Trabalhar-na-Banco-Alfa-EI_IE817306.13,23.htm                  |3.5  |3.2              |3.2                   |3.1              |2.8           |3.8                     |2.7                      |68.0                             |47.0                              |ALFA                          |100          |\n",
      "|Banco BMG                   |445          |232          |704           |277           |http://www.bancobmg.com.br     |São Paulo, Brasil          |1930.0          |/Explorar/melhores-serviços-bancários-e-de-crédito-empresas_II.9,40_IIND200048.htm |De US$ 1 a US$ 5 milhões   |https://www.glassdoor.com.br/Vis%C3%A3o-geral/Trabalhar-na-Banco-BMG-EI_IE2482923.13,22.htm                  |4.1  |3.9              |4.1                   |3.7              |3.6           |4.2                     |3.5                      |79.0                             |63.0                              |BMG                           |100          |\n",
      "|Banco Bradesco              |11000        |3300         |19000         |3200          |http://www.bancobradesco.com.br|Osasco, Brasil             |1943.0          |/Explorar/melhores-serviços-bancários-e-de-crédito-empresas_II.9,40_IIND200048.htm |Mais de US$ 10 bilhões     |https://www.glassdoor.com.br/Vis%C3%A3o-geral/Trabalhar-na-Banco-Bradesco-EI_IE10997.13,27.htm               |4.2  |3.8              |3.9                   |3.4              |3.4           |4.3                     |3.8                      |81.0                             |66.0                              |BRADESCO                      |100          |\n",
      "|Banco Daycoval              |300          |157          |521           |107           |https://www.daycoval.com.br    |São Paulo, Brasil          |1971.0          |/Explorar/melhores-serviços-bancários-e-de-crédito-empresas_II.9,40_IIND200048.htm |De US$ 25 a US$ 100 milhões|https://www.glassdoor.com.br/Vis%C3%A3o-geral/Trabalhar-na-Banco-Daycoval-EI_IE1480352.13,27.htm             |4.0  |3.7              |3.6                   |3.4              |3.3           |4.1                     |3.4                      |78.0                             |72.0                              |BANCO DAYCOVAL SA             |100          |\n",
      "|Banco Fibra                 |119          |41           |172           |37            |http://www.bancofibra.com.br   |São Paulo, Brasil          |null            |/Explorar/melhores-serviços-bancários-e-de-crédito-empresas_II.9,40_IIND200048.htm |Desconhecida/não se aplica |https://www.glassdoor.com.br/Vis%C3%A3o-geral/Trabalhar-na-Banco-Fibra-EI_IE744986.13,24.htm                 |4.3  |4.3              |4.3                   |3.8              |3.7           |4.2                     |3.6                      |87.0                             |84.0                              |BANCO FIBRA SA                |100          |\n",
      "|Banco Original              |651          |286          |1100          |261           |http://www.original.com.br     |São Paulo, Brasil          |2016.0          |/Explorar/melhores-serviços-bancários-e-de-crédito-empresas_II.9,40_IIND200048.htm |Desconhecida/não se aplica |https://www.glassdoor.com.br/Vis%C3%A3o-geral/Trabalhar-na-Banco-Original-EI_IE1026577.13,27.htm             |3.8  |3.4              |3.5                   |3.4              |3.1           |4.0                     |3.3                      |71.0                             |53.0                              |ORIGINAL                      |100          |\n",
      "|Banco PAN                   |1100         |520          |1700          |493           |http://www.bancopan.com.br     |São Paulo, Brasil          |2011.0          |/Explorar/melhores-serviços-bancários-e-de-crédito-empresas_II.9,40_IIND200048.htm |Desconhecida/não se aplica |https://www.glassdoor.com.br/Vis%C3%A3o-geral/Trabalhar-na-Banco-PAN-EI_IE1184444.13,22.htm                  |4.4  |4.2              |4.4                   |3.9              |3.9           |4.6                     |4.0                      |91.0                             |79.0                              |PAN                           |100          |\n",
      "|Banco Pine                  |121          |45           |216           |63            |http://www.pine.com            |São Paulo, Brasil          |1997.0          |/Explorar/melhores-serviços-bancários-e-de-crédito-empresas_II.9,40_IIND200048.htm |Desconhecida/não se aplica |https://www.glassdoor.com.br/Vis%C3%A3o-geral/Trabalhar-na-Banco-Pine-EI_IE1086238.13,23.htm                 |3.8  |3.5              |3.5                   |3.4              |3.0           |3.9                     |3.5                      |71.0                             |50.0                              |PINE                          |100          |\n",
      "|Banco Votorantim            |1400         |563          |2100          |574           |http://www.bancobv.com.br      |São Paulo, Brasil          |1991.0          |/Explorar/melhores-gestão-de-ativos-e-investimentos-empresas_II.9,41_IIND200146.htm|Desconhecida/não se aplica |https://www.glassdoor.com.br/Vis%C3%A3o-geral/Trabalhar-na-banco-BV-EI_IE333951.13,21.htm                    |4.4  |4.3              |4.4                   |4.1              |3.9           |4.6                     |3.9                      |93.0                             |79.0                              |VOTORANTIM                    |100          |\n",
      "|Banco do Brasil             |5000         |1100         |9200          |1200          |https://www.bb.com.br          |Brasília, Brasil           |1808.0          |/Explorar/melhores-serviços-bancários-e-de-crédito-empresas_II.9,40_IIND200048.htm |Desconhecida/não se aplica |https://www.glassdoor.com.br/Vis%C3%A3o-geral/Trabalhar-na-Banco-do-Brasil-EI_IE3945.13,28.htm               |4.3  |3.9              |4.0                   |3.7              |3.5           |4.2                     |3.8                      |86.0                             |72.0                              |BANCO DO BRASIL               |100          |\n",
      "|Banco do Nordeste do Brasil |525          |113          |840           |115           |http://www.bnb.gov.br          |Fortaleza, Brasil          |null            |/Explorar/melhores-gestão-de-ativos-e-investimentos-empresas_II.9,41_IIND200146.htm|Desconhecido/Não se aplica |https://www.glassdoor.com.br/Vis%C3%A3o-geral/Trabalhar-na-Banco-do-Nordeste-do-Brasil-EI_IE436304.13,40.htm |4.5  |4.4              |4.3                   |4.3              |4.1           |4.2                     |4.0                      |90.0                             |83.0                              |BANCO DO NORDESTE DO BRASIL SA|100          |\n",
      "|Bank Of Tokyo-Mitsubishi UFJ|770          |150          |1100          |228           |http://www.bk.mufg.jp/global   |Tóquio, Japão              |1919.0          |/Explorar/melhores-gestão-de-ativos-e-investimentos-empresas_II.9,41_IIND200146.htm|Mais de US$ 10 bilhões     |https://www.glassdoor.com.br/Vis%C3%A3o-geral/Trabalhar-na-Bank-Of-Tokyo-Mitsubishi-UFJ-EI_IE240039.13,41.htm|3.6  |3.6              |3.5                   |3.4              |3.3           |3.6                     |3.3                      |65.0                             |43.0                              |BANCO TOKYOMITSUBISHI BM SA   |80           |\n",
      "|Banrisul                    |1000         |155          |1700          |127           |http://www.banrisul.com.br     |Porto Alegre, Brasil       |null            |/Explorar/melhores-serviços-bancários-e-de-crédito-empresas_II.9,40_IIND200048.htm |De US$ 25 a US$ 100 milhões|https://www.glassdoor.com.br/Vis%C3%A3o-geral/Trabalhar-na-Banrisul-EI_IE678973.13,21.htm                    |4.2  |3.6              |3.8                   |3.7              |3.4           |4.1                     |3.3                      |84.0                             |59.0                              |BANRISUL                      |100          |\n",
      "|Caixa Econômica Federal     |4000         |717          |7300          |857           |http://www.caixa.gov.br        |BRASILIA, Brasil           |null            |/Explorar/melhores-serviços-bancários-e-de-crédito-empresas_II.9,40_IIND200048.htm |Desconhecida/não se aplica |https://www.glassdoor.com.br/Vis%C3%A3o-geral/Trabalhar-na-Caixa-Econ%C3%B4mica-Federal-EI_IE41924.13,36.htm |4.4  |3.8              |4.2                   |3.7              |3.5           |4.3                     |3.9                      |86.0                             |72.0                              |CAIXA ECONOMICA FEDERAL       |98           |\n",
      "|Citi                        |31000        |8900         |52000         |9900          |http://www.citigroup.com       |New York, Estados Unidos   |1812.0          |/Explorar/melhores-gestão-de-ativos-e-investimentos-empresas_II.9,41_IIND200146.htm|Mais de US$ 10 bilhões     |https://www.glassdoor.com.br/citi                                                                            |3.9  |3.8              |4.1                   |3.5              |3.5           |3.8                     |3.9                      |76.0                             |68.0                              |CITIBANK                      |100          |\n",
      "|Credit Suisse               |11000        |3400         |22000         |2900          |http://www.credit-suisse.com   |Zurique, Suíça             |1856.0          |/Explorar/melhores-gestão-de-ativos-e-investimentos-empresas_II.9,41_IIND200146.htm|Mais de US$ 10 bilhões     |https://www.glassdoor.com.br/Vis%C3%A3o-geral/Trabalhar-na-Credit-Suisse-EI_IE3141.13,26.htm                 |3.8  |3.8              |4.1                   |3.9              |3.3           |3.6                     |3.7                      |68.0                             |34.0                              |CREDIT SUISSE                 |100          |\n",
      "|Deutsche Bank               |12000        |3200         |21000         |3100          |https://careers.db.com/        |Frankfurt am Main, Alemanha|1870.0          |/Explorar/melhores-serviços-bancários-e-de-crédito-empresas_II.9,40_IIND200048.htm |Mais de US$ 10 bilhões     |https://www.glassdoor.com.br/Vis%C3%A3o-geral/Trabalhar-na-Deutsche-Bank-EI_IE3150.13,26.htm                 |3.9  |3.8              |4.0                   |3.8              |3.5           |3.6                     |3.7                      |78.0                             |70.0                              |DEUTSCHE                      |100          |\n",
      "|Goldman Sachs               |17000        |4400         |36000         |4100          |http://www.goldmansachs.com    |New York, Estados Unidos   |1869.0          |/Explorar/melhores-gestão-de-ativos-e-investimentos-empresas_II.9,41_IIND200146.htm|Mais de US$ 10 bilhões     |https://www.glassdoor.com.br/Vis%C3%A3o-geral/Trabalhar-na-Goldman-Sachs-EI_IE2800.13,26.htm                 |3.9  |3.7              |4.0                   |2.9              |3.5           |3.8                     |4.0                      |72.0                             |63.0                              |GOLDMAN SACHS                 |100          |\n",
      "+----------------------------+-------------+-------------+--------------+--------------+-------------------------------+---------------------------+----------------+-----------------------------------------------------------------------------------+---------------------------+-------------------------------------------------------------------------------------------------------------+-----+-----------------+----------------------+-----------------+--------------+------------------------+-------------------------+---------------------------------+----------------------------------+------------------------------+-------------+\n"
     ]
    }
   ],
   "source": [
    "employee_df.show(truncate=False)"
   ],
   "metadata": {
    "collapsed": false,
    "ExecuteTime": {
     "end_time": "2023-08-24T01:35:31.967361171Z",
     "start_time": "2023-08-24T01:35:31.856698402Z"
    }
   }
  },
  {
   "cell_type": "code",
   "execution_count": 213,
   "outputs": [
    {
     "name": "stdout",
     "output_type": "stream",
     "text": [
      "root\n",
      " |-- employer_name: string (nullable = true)\n",
      " |-- reviews_count: string (nullable = true)\n",
      " |-- culture_count: string (nullable = true)\n",
      " |-- salaries_count: string (nullable = true)\n",
      " |-- benefits_count: string (nullable = true)\n",
      " |-- employer_website: string (nullable = true)\n",
      " |-- employer_headquarters: string (nullable = true)\n",
      " |-- employer_founded: string (nullable = true)\n",
      " |-- employer_industry: string (nullable = true)\n",
      " |-- employer_revenue: string (nullable = true)\n",
      " |-- url: string (nullable = true)\n",
      " |-- geral: string (nullable = true)\n",
      " |-- cultura_e_valores: string (nullable = true)\n",
      " |-- diversidade_e_inclusão: string (nullable = true)\n",
      " |-- qualidade_de_vida: string (nullable = true)\n",
      " |-- alta_liderança: string (nullable = true)\n",
      " |-- remuneração_e_benefícios: string (nullable = true)\n",
      " |-- oportunidades_de_carreira: string (nullable = true)\n",
      " |-- recomendam_para_outras_pessoas(%): string (nullable = true)\n",
      " |-- perspectiva_positiva_da_empresa(%): string (nullable = true)\n",
      " |-- nome: string (nullable = true)\n",
      " |-- match_percent: string (nullable = true)\n"
     ]
    }
   ],
   "source": [
    "employee_df.printSchema()"
   ],
   "metadata": {
    "collapsed": false,
    "ExecuteTime": {
     "end_time": "2023-08-24T01:35:32.940928167Z",
     "start_time": "2023-08-24T01:35:32.932583967Z"
    }
   }
  },
  {
   "cell_type": "code",
   "execution_count": 214,
   "outputs": [
    {
     "name": "stdout",
     "output_type": "stream",
     "text": [
      "+--------+--------+-------------------------------+\n",
      "|segmento|cnpj    |nome                           |\n",
      "+--------+--------+-------------------------------+\n",
      "|S1      |0       |BANCO DO BRASIL                |\n",
      "|S1      |60746948|BRADESCO                       |\n",
      "|S1      |30306294|BTG PACTUAL                    |\n",
      "|S1      |360305  |CAIXA ECONOMICA FEDERAL        |\n",
      "|S1      |60872504|ITAU                           |\n",
      "|S1      |90400888|SANTANDER                      |\n",
      "|S2      |92702067|BANRISUL                       |\n",
      "|S2      |7237373 |BANCO DO NORDESTE DO BRASIL SA |\n",
      "|S2      |33657248|BNDES                          |\n",
      "|S2      |33479023|CITIBANK                       |\n",
      "|S2      |33987793|CREDIT SUISSE                  |\n",
      "|S2      |58160789|SAFRA                          |\n",
      "|S2      |59588111|VOTORANTIM                     |\n",
      "|S3      |28195667|ABCBRASIL                      |\n",
      "|S3      |60770336|ALFA                           |\n",
      "|S3      |655522  |APE POUPEX                     |\n",
      "|S3      |2992446 |BANCO CNH INDUSTRIAL CAPITAL SA|\n",
      "|S3      |2038232 |BANCOOB                        |\n",
      "|S3      |28127603|BANESTES                       |\n",
      "|S3      |31597552|BANCO CLASSICO SA              |\n",
      "+--------+--------+-------------------------------+\n"
     ]
    }
   ],
   "source": [
    "banks_df.show(truncate=False)"
   ],
   "metadata": {
    "collapsed": false,
    "ExecuteTime": {
     "end_time": "2023-08-24T01:35:33.957371871Z",
     "start_time": "2023-08-24T01:35:33.910639121Z"
    }
   }
  },
  {
   "cell_type": "code",
   "execution_count": 215,
   "outputs": [
    {
     "name": "stdout",
     "output_type": "stream",
     "text": [
      "root\n",
      " |-- segmento: string (nullable = true)\n",
      " |-- cnpj: string (nullable = true)\n",
      " |-- nome: string (nullable = true)\n"
     ]
    }
   ],
   "source": [
    "banks_df.printSchema()"
   ],
   "metadata": {
    "collapsed": false,
    "ExecuteTime": {
     "end_time": "2023-08-24T01:35:34.824730607Z",
     "start_time": "2023-08-24T01:35:34.818945288Z"
    }
   }
  },
  {
   "cell_type": "code",
   "execution_count": 216,
   "outputs": [],
   "source": [
    "join_df = claims_df.join(banks_df, ['nome','cnpj'], 'inner' )"
   ],
   "metadata": {
    "collapsed": false,
    "ExecuteTime": {
     "end_time": "2023-08-24T01:35:35.665626314Z",
     "start_time": "2023-08-24T01:35:35.645717901Z"
    }
   }
  },
  {
   "cell_type": "code",
   "execution_count": 217,
   "outputs": [
    {
     "name": "stdout",
     "output_type": "stream",
     "text": [
      "+-------------------------------+--------+----+---------+------------------------------------------------------+----------------+------+-----------------------------------------------+--------------------------------------------+---------------------------------------+-------------------------------+----------------------------------------+----------------------------+----------------------------+--------+\n",
      "|nome                           |cnpj    |ano |trimestre|categoria                                             |tipo            |índice|quantidade_de_reclamações_reguladas_procedentes|quantidade_de_reclamações_reguladas___outras|quantidade_de_reclamações_não_reguladas|quantidade_total_de_reclamações|quantidade_total_de_clientes_–_ccs_e_scr|quantidade_de_clientes_–_ccs|quantidade_de_clientes_–_scr|segmento|\n",
      "+-------------------------------+--------+----+---------+------------------------------------------------------+----------------+------+-----------------------------------------------+--------------------------------------------+---------------------------------------+-------------------------------+----------------------------------------+----------------------------+----------------------------+--------+\n",
      "|BANCO DO NORDESTE DO BRASIL SA |7237373 |2021|1º       |Grupo Secundário                                      |Banco/financeira|null  |19                                             |8                                           |20                                     |47                             |8512373                                 |7928582                     |3161435                     |S2      |\n",
      "|BANCO DO NORDESTE DO BRASIL SA |7237373 |2021|2º       |Demais bancos e financeiras                           |Banco/financeira|null  |27                                             |23                                          |30                                     |80                             |8679633                                 |8095479                     |3223472                     |S2      |\n",
      "|BANCO DO NORDESTE DO BRASIL SA |7237373 |2021|3º       |Demais bancos e financeiras                           |Banco/financeira|null  |13                                             |23                                          |37                                     |73                             |8844660                                 |8261233                     |3268835                     |S2      |\n",
      "|BANCO DO NORDESTE DO BRASIL SA |7237373 |2021|4º       |Demais Bancos, Financeiras e Instituições de Pagamento|Banco/financeira|null  |5                                              |34                                          |26                                     |65                             |8967632                                 |8384030                     |3314376                     |S2      |\n",
      "|BANCO DO NORDESTE DO BRASIL SA |7237373 |2022|1º       |Demais Bancos, Financeiras e Instituições de Pagamento|Banco/financeira|null  |9                                              |26                                          |31                                     |66                             |9079293                                 |8496689                     |3340534                     |S2      |\n",
      "|BANCO DO NORDESTE DO BRASIL SA |7237373 |2022|4º       |Demais Bancos, Financeiras e Instituições de Pagamento|Banco/financeira|null  |7                                              |27                                          |27                                     |61                             |9384798                                 |8816792                     |3284218                     |S2      |\n",
      "|BANCO DO NORDESTE DO BRASIL SA |7237373 |2022|3º       |Demais Bancos, Financeiras e Instituições de Pagamento|Banco/financeira|null  |9                                              |41                                          |48                                     |98                             |9294372                                 |8720080                     |3310284                     |S2      |\n",
      "|BANCO CNH INDUSTRIAL CAPITAL SA|2992446 |2021|1º       |Grupo Secundário                                      |Banco/financeira|null  |0                                              |1                                           |2                                      |3                              |28352                                   |1238                        |27399                       |S3      |\n",
      "|BANCO CNH INDUSTRIAL CAPITAL SA|2992446 |2021|2º       |Demais bancos e financeiras                           |Banco/financeira|null  |0                                              |0                                           |1                                      |1                              |27828                                   |1237                        |26867                       |S3      |\n",
      "|BANCO CNH INDUSTRIAL CAPITAL SA|2992446 |2021|3º       |Demais bancos e financeiras                           |Banco/financeira|null  |0                                              |0                                           |1                                      |1                              |28309                                   |1234                        |27347                       |S3      |\n",
      "|BANCO CNH INDUSTRIAL CAPITAL SA|2992446 |2021|4º       |Demais Bancos, Financeiras e Instituições de Pagamento|Banco/financeira|null  |0                                              |1                                           |0                                      |1                              |28397                                   |1230                        |27318                       |S3      |\n",
      "|BANCO CNH INDUSTRIAL CAPITAL SA|2992446 |2022|1º       |Demais Bancos, Financeiras e Instituições de Pagamento|Banco/financeira|null  |2                                              |0                                           |0                                      |2                              |29075                                   |1232                        |27996                       |S3      |\n",
      "|BANCO CNH INDUSTRIAL CAPITAL SA|2992446 |2022|4º       |Demais Bancos, Financeiras e Instituições de Pagamento|Banco/financeira|null  |0                                              |3                                           |4                                      |7                              |29965                                   |1306                        |28842                       |S3      |\n",
      "|BANCO CNH INDUSTRIAL CAPITAL SA|2992446 |2022|3º       |Demais Bancos, Financeiras e Instituições de Pagamento|Banco/financeira|null  |0                                              |2                                           |2                                      |4                              |28887                                   |1290                        |27778                       |S3      |\n",
      "|BANCO CSF SA                   |8357240 |2021|1º       |Grupo Secundário                                      |Banco/financeira|22,53 |165                                            |94                                          |51                                     |310                            |7322283                                 |null                        |7322283                     |S3      |\n",
      "|BANCO CSF SA                   |8357240 |2021|2º       |Demais bancos e financeiras                           |Banco/financeira|26,3  |192                                            |93                                          |73                                     |358                            |7297674                                 |null                        |7297674                     |S3      |\n",
      "|BANCO CSF SA                   |8357240 |2021|3º       |Demais bancos e financeiras                           |Banco/financeira|14,94 |111                                            |89                                          |59                                     |259                            |7425297                                 |null                        |7425297                     |S3      |\n",
      "|BANCO CSF SA                   |8357240 |2021|4º       |Demais Bancos, Financeiras e Instituições de Pagamento|Banco/financeira|13,88 |102                                            |99                                          |60                                     |261                            |7348002                                 |null                        |7348002                     |S3      |\n",
      "|BANCO CSF SA                   |8357240 |2022|1º       |Demais Bancos, Financeiras e Instituições de Pagamento|Banco/financeira|12,63 |94                                             |86                                          |26                                     |206                            |7437471                                 |null                        |7437471                     |S3      |\n",
      "|BANCO CSF SA                   |8357240 |2022|4º       |Demais Bancos, Financeiras e Instituições de Pagamento|Banco/financeira|6,31  |51                                             |75                                          |39                                     |165                            |8070375                                 |null                        |8070375                     |S3      |\n",
      "|BANCO CSF SA                   |8357240 |2022|3º       |Demais Bancos, Financeiras e Instituições de Pagamento|Banco/financeira|9,98  |77                                             |72                                          |43                                     |192                            |7707988                                 |null                        |7707988                     |S3      |\n",
      "|BANCO DA AMAZONIA SA           |4902979 |2021|1º       |Grupo Secundário                                      |Banco/financeira|null  |4                                              |1                                           |7                                      |12                             |540684                                  |459756                      |194221                      |S3      |\n",
      "|BANCO DA AMAZONIA SA           |4902979 |2021|2º       |Demais bancos e financeiras                           |Banco/financeira|null  |2                                              |6                                           |12                                     |20                             |548402                                  |468836                      |194802                      |S3      |\n",
      "|BANCO DA AMAZONIA SA           |4902979 |2021|3º       |Demais bancos e financeiras                           |Banco/financeira|null  |2                                              |4                                           |8                                      |14                             |551874                                  |473802                      |194373                      |S3      |\n",
      "|BANCO DA AMAZONIA SA           |4902979 |2021|4º       |Demais Bancos, Financeiras e Instituições de Pagamento|Banco/financeira|null  |1                                              |3                                           |4                                      |8                              |556710                                  |480440                      |194083                      |S3      |\n",
      "|BANCO DA AMAZONIA SA           |4902979 |2022|1º       |Demais Bancos, Financeiras e Instituições de Pagamento|Banco/financeira|null  |3                                              |3                                           |5                                      |11                             |563256                                  |488547                      |195226                      |S3      |\n",
      "|BANCO DA AMAZONIA SA           |4902979 |2022|4º       |Demais Bancos, Financeiras e Instituições de Pagamento|Banco/financeira|null  |2                                              |1                                           |6                                      |9                              |587752                                  |516123                      |203435                      |S3      |\n",
      "|BANCO DA AMAZONIA SA           |4902979 |2022|3º       |Demais Bancos, Financeiras e Instituições de Pagamento|Banco/financeira|null  |6                                              |7                                           |10                                     |23                             |507169                                  |507169                      |null                        |S3      |\n",
      "|BANCO FIBRA SA                 |58616418|2021|1º       |Grupo Secundário                                      |Banco/financeira|null  |1                                              |2                                           |2                                      |5                              |163619                                  |3832                        |160325                      |S3      |\n",
      "|BANCO FIBRA SA                 |58616418|2021|2º       |Demais bancos e financeiras                           |Banco/financeira|null  |0                                              |2                                           |3                                      |5                              |163669                                  |4032                        |160187                      |S3      |\n",
      "|BANCO FIBRA SA                 |58616418|2021|3º       |Demais bancos e financeiras                           |Banco/financeira|null  |0                                              |0                                           |1                                      |1                              |163670                                  |4092                        |160152                      |S3      |\n",
      "|BANCO FIBRA SA                 |58616418|2021|4º       |Demais Bancos, Financeiras e Instituições de Pagamento|Banco/financeira|null  |1                                              |2                                           |0                                      |3                              |164195                                  |4262                        |160535                      |S3      |\n",
      "|BANCO FIBRA SA                 |58616418|2022|1º       |Demais Bancos, Financeiras e Instituições de Pagamento|Banco/financeira|null  |1                                              |1                                           |0                                      |2                              |163906                                  |4390                        |160140                      |S3      |\n",
      "|BANCO FIBRA SA                 |58616418|2022|3º       |Demais Bancos, Financeiras e Instituições de Pagamento|Banco/financeira|null  |0                                              |1                                           |0                                      |1                              |163544                                  |4432                        |159809                      |S3      |\n",
      "|BANCO MONEO SA                 |7441209 |2022|4º       |Demais Bancos, Financeiras e Instituições de Pagamento|Banco/financeira|null  |0                                              |1                                           |0                                      |1                              |1135                                    |9                           |1128                        |S4      |\n",
      "|BANCO ABN AMRO SA              |3532415 |2021|1º       |Grupo Secundário                                      |Banco/financeira|null  |0                                              |0                                           |3                                      |3                              |98                                      |71                          |31                          |S4      |\n",
      "|BANCO ABN AMRO SA              |3532415 |2021|2º       |Demais bancos e financeiras                           |Banco/financeira|null  |0                                              |0                                           |1                                      |1                              |76                                      |54                          |23                          |S4      |\n",
      "|BANCO ABN AMRO SA              |3532415 |2021|3º       |Demais bancos e financeiras                           |Banco/financeira|null  |0                                              |0                                           |1                                      |1                              |41                                      |41                          |1                           |S4      |\n",
      "|BANCO ABN AMRO SA              |3532415 |2021|4º       |Demais Bancos, Financeiras e Instituições de Pagamento|Banco/financeira|null  |0                                              |0                                           |2                                      |2                              |26                                      |26                          |1                           |S4      |\n",
      "|BANCO ARBI SA                  |54403563|2021|1º       |Grupo Secundário                                      |Banco/financeira|null  |1                                              |0                                           |0                                      |1                              |18087                                   |9312                        |8838                        |S4      |\n",
      "|BANCO ARBI SA                  |54403563|2021|2º       |Demais bancos e financeiras                           |Banco/financeira|null  |6                                              |3                                           |2                                      |11                             |19525                                   |11177                       |8411                        |S4      |\n",
      "|BANCO ARBI SA                  |54403563|2021|3º       |Demais bancos e financeiras                           |Banco/financeira|null  |1                                              |9                                           |1                                      |11                             |28673                                   |20319                       |8520                        |S4      |\n",
      "|BANCO ARBI SA                  |54403563|2021|4º       |Demais Bancos, Financeiras e Instituições de Pagamento|Banco/financeira|null  |8                                              |14                                          |2                                      |24                             |38372                                   |30210                       |8698                        |S4      |\n",
      "|BANCO ARBI SA                  |54403563|2022|1º       |Demais Bancos, Financeiras e Instituições de Pagamento|Banco/financeira|null  |7                                              |13                                          |0                                      |20                             |48842                                   |40411                       |9387                        |S4      |\n",
      "|BANCO ARBI SA                  |54403563|2022|4º       |Demais Bancos, Financeiras e Instituições de Pagamento|Banco/financeira|null  |6                                              |7                                           |2                                      |15                             |89501                                   |89501                       |null                        |S4      |\n",
      "|BANCO ARBI SA                  |54403563|2022|3º       |Demais Bancos, Financeiras e Instituições de Pagamento|Banco/financeira|null  |14                                             |8                                           |0                                      |22                             |84526                                   |75882                       |10846                       |S4      |\n",
      "|BANCO CAPITAL SA               |15173776|2021|2º       |Demais bancos e financeiras                           |Banco/financeira|null  |0                                              |1                                           |0                                      |1                              |1354                                    |1312                        |124                         |S4      |\n",
      "|BANCO CATERPILLAR SA           |2658435 |2022|3º       |Demais Bancos, Financeiras e Instituições de Pagamento|Banco/financeira|null  |1                                              |0                                           |0                                      |1                              |3325                                    |null                        |3325                        |S4      |\n",
      "|BANCO CEDULA SA                |33132044|2021|3º       |Demais bancos e financeiras                           |Banco/financeira|null  |0                                              |1                                           |0                                      |1                              |18022                                   |2815                        |15434                       |S4      |\n",
      "|BANCO CEDULA SA                |33132044|2021|4º       |Demais Bancos, Financeiras e Instituições de Pagamento|Banco/financeira|null  |2                                              |0                                           |0                                      |2                              |18016                                   |2809                        |15432                       |S4      |\n",
      "+-------------------------------+--------+----+---------+------------------------------------------------------+----------------+------+-----------------------------------------------+--------------------------------------------+---------------------------------------+-------------------------------+----------------------------------------+----------------------------+----------------------------+--------+\n"
     ]
    }
   ],
   "source": [
    "join_df.show(50, truncate=False)"
   ],
   "metadata": {
    "collapsed": false,
    "ExecuteTime": {
     "end_time": "2023-08-24T01:35:37.407138544Z",
     "start_time": "2023-08-24T01:35:37.190044585Z"
    }
   }
  },
  {
   "cell_type": "code",
   "execution_count": 268,
   "outputs": [],
   "source": [
    "final_df = join_df.join( employee_df, 'nome' , 'inner')"
   ],
   "metadata": {
    "collapsed": false,
    "ExecuteTime": {
     "end_time": "2023-08-24T01:58:01.310876941Z",
     "start_time": "2023-08-24T01:58:01.301740564Z"
    }
   }
  },
  {
   "cell_type": "code",
   "execution_count": 257,
   "outputs": [
    {
     "name": "stdout",
     "output_type": "stream",
     "text": [
      "+------------------------------+--------+----+---------+------------------------------------------------------+----------------+------+-----------------------------------------------+--------------------------------------------+---------------------------------------+-------------------------------+----------------------------------------+----------------------------+----------------------------+--------+---------------------------+-------------+-------------+--------------+--------------+----------------------------+---------------------+----------------+-----------------------------------------------------------------------------------+--------------------------+------------------------------------------------------------------------------------------------------------+-----+-----------------+----------------------+-----------------+--------------+------------------------+-------------------------+---------------------------------+----------------------------------+-------------+\n",
      "|nome                          |cnpj    |ano |trimestre|categoria                                             |tipo            |índice|quantidade_de_reclamações_reguladas_procedentes|quantidade_de_reclamações_reguladas___outras|quantidade_de_reclamações_não_reguladas|quantidade_total_de_reclamações|quantidade_total_de_clientes_–_ccs_e_scr|quantidade_de_clientes_–_ccs|quantidade_de_clientes_–_scr|segmento|employer_name              |reviews_count|culture_count|salaries_count|benefits_count|employer_website            |employer_headquarters|employer_founded|employer_industry                                                                  |employer_revenue          |url                                                                                                         |geral|cultura_e_valores|diversidade_e_inclusão|qualidade_de_vida|alta_liderança|remuneração_e_benefícios|oportunidades_de_carreira|recomendam_para_outras_pessoas(%)|perspectiva_positiva_da_empresa(%)|match_percent|\n",
      "+------------------------------+--------+----+---------+------------------------------------------------------+----------------+------+-----------------------------------------------+--------------------------------------------+---------------------------------------+-------------------------------+----------------------------------------+----------------------------+----------------------------+--------+---------------------------+-------------+-------------+--------------+--------------+----------------------------+---------------------+----------------+-----------------------------------------------------------------------------------+--------------------------+------------------------------------------------------------------------------------------------------------+-----+-----------------+----------------------+-----------------+--------------+------------------------+-------------------------+---------------------------------+----------------------------------+-------------+\n",
      "|BANCO DO NORDESTE DO BRASIL SA|7237373 |2021|1º       |Grupo Secundário                                      |Banco/financeira|null  |19                                             |8                                           |20                                     |47                             |8512373                                 |7928582                     |3161435                     |S2      |Banco do Nordeste do Brasil|525          |113          |840           |115           |http://www.bnb.gov.br       |Fortaleza, Brasil    |null            |/Explorar/melhores-gestão-de-ativos-e-investimentos-empresas_II.9,41_IIND200146.htm|Desconhecido/Não se aplica|https://www.glassdoor.com.br/Vis%C3%A3o-geral/Trabalhar-na-Banco-do-Nordeste-do-Brasil-EI_IE436304.13,40.htm|4.5  |4.4              |4.3                   |4.3              |4.1           |4.2                     |4.0                      |90.0                             |83.0                              |100          |\n",
      "|BANCO DO NORDESTE DO BRASIL SA|7237373 |2021|2º       |Demais bancos e financeiras                           |Banco/financeira|null  |27                                             |23                                          |30                                     |80                             |8679633                                 |8095479                     |3223472                     |S2      |Banco do Nordeste do Brasil|525          |113          |840           |115           |http://www.bnb.gov.br       |Fortaleza, Brasil    |null            |/Explorar/melhores-gestão-de-ativos-e-investimentos-empresas_II.9,41_IIND200146.htm|Desconhecido/Não se aplica|https://www.glassdoor.com.br/Vis%C3%A3o-geral/Trabalhar-na-Banco-do-Nordeste-do-Brasil-EI_IE436304.13,40.htm|4.5  |4.4              |4.3                   |4.3              |4.1           |4.2                     |4.0                      |90.0                             |83.0                              |100          |\n",
      "|BANCO DO NORDESTE DO BRASIL SA|7237373 |2021|3º       |Demais bancos e financeiras                           |Banco/financeira|null  |13                                             |23                                          |37                                     |73                             |8844660                                 |8261233                     |3268835                     |S2      |Banco do Nordeste do Brasil|525          |113          |840           |115           |http://www.bnb.gov.br       |Fortaleza, Brasil    |null            |/Explorar/melhores-gestão-de-ativos-e-investimentos-empresas_II.9,41_IIND200146.htm|Desconhecido/Não se aplica|https://www.glassdoor.com.br/Vis%C3%A3o-geral/Trabalhar-na-Banco-do-Nordeste-do-Brasil-EI_IE436304.13,40.htm|4.5  |4.4              |4.3                   |4.3              |4.1           |4.2                     |4.0                      |90.0                             |83.0                              |100          |\n",
      "|BANCO DO NORDESTE DO BRASIL SA|7237373 |2021|4º       |Demais Bancos, Financeiras e Instituições de Pagamento|Banco/financeira|null  |5                                              |34                                          |26                                     |65                             |8967632                                 |8384030                     |3314376                     |S2      |Banco do Nordeste do Brasil|525          |113          |840           |115           |http://www.bnb.gov.br       |Fortaleza, Brasil    |null            |/Explorar/melhores-gestão-de-ativos-e-investimentos-empresas_II.9,41_IIND200146.htm|Desconhecido/Não se aplica|https://www.glassdoor.com.br/Vis%C3%A3o-geral/Trabalhar-na-Banco-do-Nordeste-do-Brasil-EI_IE436304.13,40.htm|4.5  |4.4              |4.3                   |4.3              |4.1           |4.2                     |4.0                      |90.0                             |83.0                              |100          |\n",
      "|BANCO DO NORDESTE DO BRASIL SA|7237373 |2022|1º       |Demais Bancos, Financeiras e Instituições de Pagamento|Banco/financeira|null  |9                                              |26                                          |31                                     |66                             |9079293                                 |8496689                     |3340534                     |S2      |Banco do Nordeste do Brasil|525          |113          |840           |115           |http://www.bnb.gov.br       |Fortaleza, Brasil    |null            |/Explorar/melhores-gestão-de-ativos-e-investimentos-empresas_II.9,41_IIND200146.htm|Desconhecido/Não se aplica|https://www.glassdoor.com.br/Vis%C3%A3o-geral/Trabalhar-na-Banco-do-Nordeste-do-Brasil-EI_IE436304.13,40.htm|4.5  |4.4              |4.3                   |4.3              |4.1           |4.2                     |4.0                      |90.0                             |83.0                              |100          |\n",
      "|BANCO DO NORDESTE DO BRASIL SA|7237373 |2022|4º       |Demais Bancos, Financeiras e Instituições de Pagamento|Banco/financeira|null  |7                                              |27                                          |27                                     |61                             |9384798                                 |8816792                     |3284218                     |S2      |Banco do Nordeste do Brasil|525          |113          |840           |115           |http://www.bnb.gov.br       |Fortaleza, Brasil    |null            |/Explorar/melhores-gestão-de-ativos-e-investimentos-empresas_II.9,41_IIND200146.htm|Desconhecido/Não se aplica|https://www.glassdoor.com.br/Vis%C3%A3o-geral/Trabalhar-na-Banco-do-Nordeste-do-Brasil-EI_IE436304.13,40.htm|4.5  |4.4              |4.3                   |4.3              |4.1           |4.2                     |4.0                      |90.0                             |83.0                              |100          |\n",
      "|BANCO DO NORDESTE DO BRASIL SA|7237373 |2022|3º       |Demais Bancos, Financeiras e Instituições de Pagamento|Banco/financeira|null  |9                                              |41                                          |48                                     |98                             |9294372                                 |8720080                     |3310284                     |S2      |Banco do Nordeste do Brasil|525          |113          |840           |115           |http://www.bnb.gov.br       |Fortaleza, Brasil    |null            |/Explorar/melhores-gestão-de-ativos-e-investimentos-empresas_II.9,41_IIND200146.htm|Desconhecido/Não se aplica|https://www.glassdoor.com.br/Vis%C3%A3o-geral/Trabalhar-na-Banco-do-Nordeste-do-Brasil-EI_IE436304.13,40.htm|4.5  |4.4              |4.3                   |4.3              |4.1           |4.2                     |4.0                      |90.0                             |83.0                              |100          |\n",
      "|BANCO FIBRA SA                |58616418|2021|1º       |Grupo Secundário                                      |Banco/financeira|null  |1                                              |2                                           |2                                      |5                              |163619                                  |3832                        |160325                      |S3      |Banco Fibra                |119          |41           |172           |37            |http://www.bancofibra.com.br|São Paulo, Brasil    |null            |/Explorar/melhores-serviços-bancários-e-de-crédito-empresas_II.9,40_IIND200048.htm |Desconhecida/não se aplica|https://www.glassdoor.com.br/Vis%C3%A3o-geral/Trabalhar-na-Banco-Fibra-EI_IE744986.13,24.htm                |4.3  |4.3              |4.3                   |3.8              |3.7           |4.2                     |3.6                      |87.0                             |84.0                              |100          |\n",
      "|BANCO FIBRA SA                |58616418|2021|2º       |Demais bancos e financeiras                           |Banco/financeira|null  |0                                              |2                                           |3                                      |5                              |163669                                  |4032                        |160187                      |S3      |Banco Fibra                |119          |41           |172           |37            |http://www.bancofibra.com.br|São Paulo, Brasil    |null            |/Explorar/melhores-serviços-bancários-e-de-crédito-empresas_II.9,40_IIND200048.htm |Desconhecida/não se aplica|https://www.glassdoor.com.br/Vis%C3%A3o-geral/Trabalhar-na-Banco-Fibra-EI_IE744986.13,24.htm                |4.3  |4.3              |4.3                   |3.8              |3.7           |4.2                     |3.6                      |87.0                             |84.0                              |100          |\n",
      "|BANCO FIBRA SA                |58616418|2021|3º       |Demais bancos e financeiras                           |Banco/financeira|null  |0                                              |0                                           |1                                      |1                              |163670                                  |4092                        |160152                      |S3      |Banco Fibra                |119          |41           |172           |37            |http://www.bancofibra.com.br|São Paulo, Brasil    |null            |/Explorar/melhores-serviços-bancários-e-de-crédito-empresas_II.9,40_IIND200048.htm |Desconhecida/não se aplica|https://www.glassdoor.com.br/Vis%C3%A3o-geral/Trabalhar-na-Banco-Fibra-EI_IE744986.13,24.htm                |4.3  |4.3              |4.3                   |3.8              |3.7           |4.2                     |3.6                      |87.0                             |84.0                              |100          |\n",
      "|BANCO FIBRA SA                |58616418|2021|4º       |Demais Bancos, Financeiras e Instituições de Pagamento|Banco/financeira|null  |1                                              |2                                           |0                                      |3                              |164195                                  |4262                        |160535                      |S3      |Banco Fibra                |119          |41           |172           |37            |http://www.bancofibra.com.br|São Paulo, Brasil    |null            |/Explorar/melhores-serviços-bancários-e-de-crédito-empresas_II.9,40_IIND200048.htm |Desconhecida/não se aplica|https://www.glassdoor.com.br/Vis%C3%A3o-geral/Trabalhar-na-Banco-Fibra-EI_IE744986.13,24.htm                |4.3  |4.3              |4.3                   |3.8              |3.7           |4.2                     |3.6                      |87.0                             |84.0                              |100          |\n",
      "|BANCO FIBRA SA                |58616418|2022|1º       |Demais Bancos, Financeiras e Instituições de Pagamento|Banco/financeira|null  |1                                              |1                                           |0                                      |2                              |163906                                  |4390                        |160140                      |S3      |Banco Fibra                |119          |41           |172           |37            |http://www.bancofibra.com.br|São Paulo, Brasil    |null            |/Explorar/melhores-serviços-bancários-e-de-crédito-empresas_II.9,40_IIND200048.htm |Desconhecida/não se aplica|https://www.glassdoor.com.br/Vis%C3%A3o-geral/Trabalhar-na-Banco-Fibra-EI_IE744986.13,24.htm                |4.3  |4.3              |4.3                   |3.8              |3.7           |4.2                     |3.6                      |87.0                             |84.0                              |100          |\n",
      "|BANCO FIBRA SA                |58616418|2022|3º       |Demais Bancos, Financeiras e Instituições de Pagamento|Banco/financeira|null  |0                                              |1                                           |0                                      |1                              |163544                                  |4432                        |159809                      |S3      |Banco Fibra                |119          |41           |172           |37            |http://www.bancofibra.com.br|São Paulo, Brasil    |null            |/Explorar/melhores-serviços-bancários-e-de-crédito-empresas_II.9,40_IIND200048.htm |Desconhecida/não se aplica|https://www.glassdoor.com.br/Vis%C3%A3o-geral/Trabalhar-na-Banco-Fibra-EI_IE744986.13,24.htm                |4.3  |4.3              |4.3                   |3.8              |3.7           |4.2                     |3.6                      |87.0                             |84.0                              |100          |\n",
      "|BANCO FIBRA SA                |58616418|2021|1º       |Grupo Secundário                                      |Banco/financeira|null  |1                                              |2                                           |2                                      |5                              |163619                                  |3832                        |160325                      |S3      |Banco Fibra                |119          |41           |172           |37            |http://www.bancofibra.com.br|São Paulo, Brasil    |null            |/Explorar/melhores-serviços-bancários-e-de-crédito-empresas_II.9,40_IIND200048.htm |Desconhecida/não se aplica|https://www.glassdoor.com.br/Vis%C3%A3o-geral/Trabalhar-na-Banco-Fibra-EI_IE744986.13,24.htm                |4.3  |4.3              |4.3                   |3.8              |3.7           |4.2                     |3.6                      |87.0                             |84.0                              |100          |\n",
      "|BANCO FIBRA SA                |58616418|2021|2º       |Demais bancos e financeiras                           |Banco/financeira|null  |0                                              |2                                           |3                                      |5                              |163669                                  |4032                        |160187                      |S3      |Banco Fibra                |119          |41           |172           |37            |http://www.bancofibra.com.br|São Paulo, Brasil    |null            |/Explorar/melhores-serviços-bancários-e-de-crédito-empresas_II.9,40_IIND200048.htm |Desconhecida/não se aplica|https://www.glassdoor.com.br/Vis%C3%A3o-geral/Trabalhar-na-Banco-Fibra-EI_IE744986.13,24.htm                |4.3  |4.3              |4.3                   |3.8              |3.7           |4.2                     |3.6                      |87.0                             |84.0                              |100          |\n",
      "|BANCO FIBRA SA                |58616418|2021|3º       |Demais bancos e financeiras                           |Banco/financeira|null  |0                                              |0                                           |1                                      |1                              |163670                                  |4092                        |160152                      |S3      |Banco Fibra                |119          |41           |172           |37            |http://www.bancofibra.com.br|São Paulo, Brasil    |null            |/Explorar/melhores-serviços-bancários-e-de-crédito-empresas_II.9,40_IIND200048.htm |Desconhecida/não se aplica|https://www.glassdoor.com.br/Vis%C3%A3o-geral/Trabalhar-na-Banco-Fibra-EI_IE744986.13,24.htm                |4.3  |4.3              |4.3                   |3.8              |3.7           |4.2                     |3.6                      |87.0                             |84.0                              |100          |\n",
      "|BANCO FIBRA SA                |58616418|2021|4º       |Demais Bancos, Financeiras e Instituições de Pagamento|Banco/financeira|null  |1                                              |2                                           |0                                      |3                              |164195                                  |4262                        |160535                      |S3      |Banco Fibra                |119          |41           |172           |37            |http://www.bancofibra.com.br|São Paulo, Brasil    |null            |/Explorar/melhores-serviços-bancários-e-de-crédito-empresas_II.9,40_IIND200048.htm |Desconhecida/não se aplica|https://www.glassdoor.com.br/Vis%C3%A3o-geral/Trabalhar-na-Banco-Fibra-EI_IE744986.13,24.htm                |4.3  |4.3              |4.3                   |3.8              |3.7           |4.2                     |3.6                      |87.0                             |84.0                              |100          |\n",
      "|BANCO FIBRA SA                |58616418|2022|1º       |Demais Bancos, Financeiras e Instituições de Pagamento|Banco/financeira|null  |1                                              |1                                           |0                                      |2                              |163906                                  |4390                        |160140                      |S3      |Banco Fibra                |119          |41           |172           |37            |http://www.bancofibra.com.br|São Paulo, Brasil    |null            |/Explorar/melhores-serviços-bancários-e-de-crédito-empresas_II.9,40_IIND200048.htm |Desconhecida/não se aplica|https://www.glassdoor.com.br/Vis%C3%A3o-geral/Trabalhar-na-Banco-Fibra-EI_IE744986.13,24.htm                |4.3  |4.3              |4.3                   |3.8              |3.7           |4.2                     |3.6                      |87.0                             |84.0                              |100          |\n",
      "|BANCO FIBRA SA                |58616418|2022|3º       |Demais Bancos, Financeiras e Instituições de Pagamento|Banco/financeira|null  |0                                              |1                                           |0                                      |1                              |163544                                  |4432                        |159809                      |S3      |Banco Fibra                |119          |41           |172           |37            |http://www.bancofibra.com.br|São Paulo, Brasil    |null            |/Explorar/melhores-serviços-bancários-e-de-crédito-empresas_II.9,40_IIND200048.htm |Desconhecida/não se aplica|https://www.glassdoor.com.br/Vis%C3%A3o-geral/Trabalhar-na-Banco-Fibra-EI_IE744986.13,24.htm                |4.3  |4.3              |4.3                   |3.8              |3.7           |4.2                     |3.6                      |87.0                             |84.0                              |100          |\n",
      "+------------------------------+--------+----+---------+------------------------------------------------------+----------------+------+-----------------------------------------------+--------------------------------------------+---------------------------------------+-------------------------------+----------------------------------------+----------------------------+----------------------------+--------+---------------------------+-------------+-------------+--------------+--------------+----------------------------+---------------------+----------------+-----------------------------------------------------------------------------------+--------------------------+------------------------------------------------------------------------------------------------------------+-----+-----------------+----------------------+-----------------+--------------+------------------------+-------------------------+---------------------------------+----------------------------------+-------------+\n"
     ]
    }
   ],
   "source": [
    "final_df.show(truncate=False)"
   ],
   "metadata": {
    "collapsed": false,
    "ExecuteTime": {
     "end_time": "2023-08-24T01:55:31.446185940Z",
     "start_time": "2023-08-24T01:55:31.207185172Z"
    }
   }
  },
  {
   "cell_type": "code",
   "execution_count": 269,
   "outputs": [
    {
     "name": "stdout",
     "output_type": "stream",
     "text": [
      "+------------------------------+--------+------------------------------------------------------+--------------------------------+---------------------+-------------------------+------------------------------------------------+-------------------------------------------------------------+\n",
      "|Nome do Banco                 |CNPJ    |Classificação                                         |Quantidade de Clientes do Bancos|Índice de reclamações|Quantidade de reclamações|Índice de satisfação dos funcionários dos bancos|Índice de satisfação com salários dos funcionários dos bancos|\n",
      "+------------------------------+--------+------------------------------------------------------+--------------------------------+---------------------+-------------------------+------------------------------------------------+-------------------------------------------------------------+\n",
      "|BANCO FIBRA SA                |58616418|Grupo Secundário                                      |163619.0                        |null                 |5.0                      |4.3                                             |4.2                                                          |\n",
      "|BANCO DO NORDESTE DO BRASIL SA|7237373 |Demais bancos e financeiras                           |8762147.0                       |null                 |76.5                     |4.5                                             |4.2                                                          |\n",
      "|BANCO FIBRA SA                |58616418|Demais bancos e financeiras                           |163670.0                        |null                 |3.0                      |4.3                                             |4.2                                                          |\n",
      "|BANCO DO NORDESTE DO BRASIL SA|7237373 |Grupo Secundário                                      |8512373.0                       |null                 |47.0                     |4.5                                             |4.2                                                          |\n",
      "|BANCO FIBRA SA                |58616418|Demais Bancos, Financeiras e Instituições de Pagamento|163882.0                        |null                 |2.0                      |4.3                                             |4.2                                                          |\n",
      "|BANCO DO NORDESTE DO BRASIL SA|7237373 |Demais Bancos, Financeiras e Instituições de Pagamento|9181524.0                       |null                 |72.5                     |4.5                                             |4.2                                                          |\n",
      "+------------------------------+--------+------------------------------------------------------+--------------------------------+---------------------+-------------------------+------------------------------------------------+-------------------------------------------------------------+\n"
     ]
    }
   ],
   "source": [
    "# Estrutura final esperada:\n",
    "# Nome do Banco\n",
    "# CNPJ\n",
    "# Classificação do Banco\n",
    "# Quantidade de Clientes do Bancos\n",
    "# Índice de reclamações\n",
    "# Quantidade de reclamações\n",
    "# Índice de satisfação dos funcionários dos bancos\n",
    "# Índice de satisfação com salários dos funcionários dos bancos.\n",
    "\n",
    "final_df = final_df.select(col('nome').alias('Nome do Banco'), \n",
    "                           col('cnpj').alias('CNPJ'),\n",
    "                           col('categoria').alias('Classificação'),\n",
    "                           col('quantidade_total_de_clientes_–_ccs_e_scr').alias('Quantidade de Clientes do Bancos'),\n",
    "                           col('índice').alias('Índice de reclamações'),\n",
    "                           col('quantidade_total_de_reclamações').alias('Quantidade de reclamações'),\n",
    "                           col('geral').alias('Índice de satisfação dos funcionários dos bancos'),\n",
    "                           col('remuneração_e_benefícios').alias('Índice de satisfação com salários dos funcionários dos bancos'))\n",
    "\n",
    "final_df = final_df.groupBy('Nome do Banco',\n",
    "                            'CNPJ',\n",
    "                            'Classificação')\\\n",
    "                   .agg(round(avg('Quantidade de Clientes do Bancos')).alias('Quantidade de Clientes do Bancos'),\n",
    "                              avg('Índice de reclamações').alias('Índice de reclamações'),\n",
    "                              avg('Quantidade de reclamações').alias('Quantidade de reclamações'),\n",
    "                              avg('Índice de satisfação dos funcionários dos bancos').alias('Índice de satisfação dos funcionários dos bancos'),\n",
    "                              avg('Índice de satisfação com salários dos funcionários dos bancos').alias('Índice de satisfação com salários dos funcionários dos bancos'))"
   ],
   "metadata": {
    "collapsed": false,
    "ExecuteTime": {
     "end_time": "2023-08-24T01:58:04.509168206Z",
     "start_time": "2023-08-24T01:58:04.223981362Z"
    }
   }
  },
  {
   "cell_type": "code",
   "execution_count": 270,
   "outputs": [],
   "source": [
    "final_df.write.mode(\"overwrite\").csv(\"../data/gold/final_table\", header=True, sep=\";\")"
   ],
   "metadata": {
    "collapsed": false,
    "ExecuteTime": {
     "end_time": "2023-08-24T02:03:58.729827340Z",
     "start_time": "2023-08-24T02:03:58.456297122Z"
    }
   }
  },
  {
   "cell_type": "code",
   "execution_count": null,
   "outputs": [],
   "source": [],
   "metadata": {
    "collapsed": false
   }
  }
 ],
 "metadata": {
  "kernelspec": {
   "display_name": "Python 3",
   "language": "python",
   "name": "python3"
  },
  "language_info": {
   "codemirror_mode": {
    "name": "ipython",
    "version": 3
   },
   "file_extension": ".py",
   "mimetype": "text/x-python",
   "name": "python",
   "nbconvert_exporter": "python",
   "pygments_lexer": "ipython3",
   "version": "3.11.0"
  },
  "orig_nbformat": 4
 },
 "nbformat": 4,
 "nbformat_minor": 2
}
